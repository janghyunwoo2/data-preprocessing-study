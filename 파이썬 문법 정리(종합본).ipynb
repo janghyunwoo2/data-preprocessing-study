{
 "cells": [
  {
   "cell_type": "markdown",
   "id": "669d5573-79ca-476f-a936-9828ce7d1efb",
   "metadata": {
    "jp-MarkdownHeadingCollapsed": true,
    "tags": []
   },
   "source": [
    "## 탐색(검색)\n",
    "\n",
    "in은 객체에 해당 요소가 있는지 확인하는 용도(bool값 반환)\n",
    "\n",
    "index, find는 해당 요소가 있는지 확인하고 있다면 (index값 반환)\n",
    "\n",
    "리스트 2차원 요소 인덱스 찾기"
   ]
  },
  {
   "cell_type": "code",
   "execution_count": 5,
   "id": "976bd3e7-40dc-4dd5-8c36-6a6bdcd5d194",
   "metadata": {
    "execution": {
     "iopub.execute_input": "2023-05-17T05:50:11.205832Z",
     "iopub.status.busy": "2023-05-17T05:50:11.204802Z",
     "iopub.status.idle": "2023-05-17T05:50:11.211247Z",
     "shell.execute_reply": "2023-05-17T05:50:11.211247Z",
     "shell.execute_reply.started": "2023-05-17T05:50:11.205832Z"
    },
    "tags": []
   },
   "outputs": [
    {
     "name": "stdout",
     "output_type": "stream",
     "text": [
      "True\n",
      "True\n",
      "False\n",
      "True\n",
      "True\n",
      "\n",
      "0 \n",
      "\n",
      "-1 \n",
      "\n",
      "2\n",
      "a 1\n",
      "b 2\n",
      "c 3\n"
     ]
    }
   ],
   "source": [
    "# in 활용(리스트,딕셔너리,문자열)\n",
    "print(1 in [1,2,3,4])\n",
    "print(\"12\" in '1234')\n",
    "print('ac' in 'abcd') # 문자열은 순서도 맞아야 한다\n",
    "print('a' in {\"a\":1,'b':2,'c':3}.keys())\n",
    "print(1 in {\"a\":1,'b':2,'c':3}.values())\n",
    "print()\n",
    "\n",
    "# index 활용(리스트)\n",
    "# 만약 인덱스에 없는 값을 찾으려고 하면 애러-> try except로 처리해주면 됌!\n",
    "print([1,2,3,4].index(1),'\\n') \n",
    "\n",
    "# find 활용(문자열)\n",
    "print('1234'.find('24'),'\\n') # '24'는 없으니 -1 반환\n",
    "\n",
    "# items 활용(딕셔너리)\n",
    "print({\"a\":1,'b':2,'c':3}['b'])\n",
    "for key,val in {\"a\":1,'b':2,'c':3}.items():\n",
    "    print(key,val)"
   ]
  },
  {
   "cell_type": "code",
   "execution_count": 205,
   "id": "b440b9b9-c9b2-42bd-9ec2-0279092332f8",
   "metadata": {
    "execution": {
     "iopub.execute_input": "2023-05-10T05:23:43.144012Z",
     "iopub.status.busy": "2023-05-10T05:23:43.144012Z",
     "iopub.status.idle": "2023-05-10T05:23:43.148969Z",
     "shell.execute_reply": "2023-05-10T05:23:43.148969Z",
     "shell.execute_reply.started": "2023-05-10T05:23:43.144012Z"
    },
    "tags": []
   },
   "outputs": [
    {
     "name": "stdout",
     "output_type": "stream",
     "text": [
      "3\n"
     ]
    }
   ],
   "source": [
    "# 이진 탐색\n",
    "import bisect\n",
    "mylist = [1, 2, 3, 7, 9, 11, 33]\n",
    "print(bisect.bisect(mylist, 5)) # 5를 몇번쨰 넣어야 하는지 출력"
   ]
  },
  {
   "cell_type": "code",
   "execution_count": 1,
   "id": "7fa69c97-0d6f-44f0-a3b1-dcb07d9a505b",
   "metadata": {
    "execution": {
     "iopub.execute_input": "2023-05-15T01:08:49.732492Z",
     "iopub.status.busy": "2023-05-15T01:08:49.731494Z",
     "iopub.status.idle": "2023-05-15T01:08:49.743548Z",
     "shell.execute_reply": "2023-05-15T01:08:49.743012Z",
     "shell.execute_reply.started": "2023-05-15T01:08:49.732492Z"
    },
    "tags": []
   },
   "outputs": [
    {
     "name": "stdout",
     "output_type": "stream",
     "text": [
      "5의 인덱스는 1 1\n"
     ]
    }
   ],
   "source": [
    "# 2차원 리스트에서 요소 인덱스 찾기\n",
    "my_list = [\n",
    "    [1, 2, 3],\n",
    "    [4, 5, 6],\n",
    "    [7, 8, 9]\n",
    "]\n",
    "\n",
    "for i in range(len(my_list)):\n",
    "    for j in range(len(my_list[i])):\n",
    "        if my_list[i][j] == 5:\n",
    "            print(\"5의 인덱스는\", i, j)\n"
   ]
  },
  {
   "cell_type": "markdown",
   "id": "326077df-980e-4681-8784-226f7b6ee179",
   "metadata": {
    "tags": []
   },
   "source": [
    "## 정렬\n",
    "\n",
    "object.sort()는 원본 정렬o, 반환은 none\n",
    "\n",
    "sorted(object)는 원본 정렬x, 반환은 정렬된 객체 ** 주로 많이 씀!\n",
    "\n",
    "functools cmp_to_key : sorted key에 커스텀 비교 함수를 넣을 수 있는 모듈.\n",
    " 그래서 cmp_to_key 매개변수에 비교 함수(크면1,작으면-1,같으면0을 반환하는)를 넣어야한다.\n",
    " 람다로도 정렬하기 까다로운 조건에서 사용하면 좋음"
   ]
  },
  {
   "cell_type": "code",
   "execution_count": 81,
   "id": "6a2a3f94-f798-425d-a1e5-2d4c65f37526",
   "metadata": {
    "execution": {
     "iopub.execute_input": "2023-05-10T03:08:06.940161Z",
     "iopub.status.busy": "2023-05-10T03:08:06.939166Z",
     "iopub.status.idle": "2023-05-10T03:08:06.944164Z",
     "shell.execute_reply": "2023-05-10T03:08:06.944164Z",
     "shell.execute_reply.started": "2023-05-10T03:08:06.940161Z"
    },
    "tags": []
   },
   "outputs": [
    {
     "name": "stdout",
     "output_type": "stream",
     "text": [
      "None\n",
      "[1, 2, 3, 4]\n",
      "[1, 2, 3, 4] [4, 3, 2, 1]\n"
     ]
    }
   ],
   "source": [
    "# sort() sorted() 차이\n",
    "a = [4,3,2,1]\n",
    "b = [4,3,2,1]\n",
    "b\n",
    "print(a.sort())\n",
    "print(sorted(b))\n",
    "\n",
    "# a.sort()는 원본 바뀜, sorted(b) 는 안바뀜\n",
    "print(a,b) "
   ]
  },
  {
   "cell_type": "code",
   "execution_count": 76,
   "id": "1e78dadd-227e-47b0-a20c-9e0fc3f0adab",
   "metadata": {
    "execution": {
     "iopub.execute_input": "2023-05-10T03:03:46.607181Z",
     "iopub.status.busy": "2023-05-10T03:03:46.606182Z",
     "iopub.status.idle": "2023-05-10T03:03:46.610643Z",
     "shell.execute_reply": "2023-05-10T03:03:46.610643Z",
     "shell.execute_reply.started": "2023-05-10T03:03:46.607181Z"
    },
    "tags": []
   },
   "outputs": [
    {
     "name": "stdout",
     "output_type": "stream",
     "text": [
      "['1', '2', '3', '4']\n",
      "['a', 'b', 'c', 'd']\n"
     ]
    }
   ],
   "source": [
    "# 문자열 정렬 (리스트로 반환)\n",
    "print(sorted('4321'))\n",
    "print(sorted('dcba'))"
   ]
  },
  {
   "cell_type": "code",
   "execution_count": 86,
   "id": "eaae21e8-69c5-4eab-9c7d-8559d924bc32",
   "metadata": {
    "execution": {
     "iopub.execute_input": "2023-05-10T03:21:09.669280Z",
     "iopub.status.busy": "2023-05-10T03:21:09.669280Z",
     "iopub.status.idle": "2023-05-10T03:21:09.675281Z",
     "shell.execute_reply": "2023-05-10T03:21:09.675281Z",
     "shell.execute_reply.started": "2023-05-10T03:21:09.669280Z"
    },
    "tags": []
   },
   "outputs": [
    {
     "name": "stdout",
     "output_type": "stream",
     "text": [
      "[1, 2, 3, 4]\n",
      "[36, 20, 40, 47, 10, 6, 7000, 10000]\n",
      "[36, 40, 20, 47, 10, 6, 7000, 10000]\n"
     ]
    }
   ],
   "source": [
    "# 리스트 정렬\n",
    "print(sorted([4,3,2,1]))\n",
    "\n",
    "# 리스트 다중 정렬\n",
    "# 30뺴고 나온 값 절대값으로 정렬하고 만약 같다면 내림차순(큰값이 위로)\n",
    "# 40과 20은 30을 뺸 절대값이 같으므로 두번째 조건인 내림차순으로 큰값이 먼저 오게 함\n",
    "numlist = [10000,20,36,47,40,6,10,7000]\n",
    "n = 30\n",
    "print(sorted(numlist,key = lambda x: (abs(x-n),x)))\n",
    "print(sorted(numlist,key = lambda x: (abs(x-n),-x)))\n",
    "\n"
   ]
  },
  {
   "cell_type": "code",
   "execution_count": 7,
   "id": "97c3f196-27ee-460f-9c06-822cd44f9a72",
   "metadata": {
    "execution": {
     "iopub.execute_input": "2023-05-16T02:07:41.641596Z",
     "iopub.status.busy": "2023-05-16T02:07:41.641596Z",
     "iopub.status.idle": "2023-05-16T02:07:41.649523Z",
     "shell.execute_reply": "2023-05-16T02:07:41.649523Z",
     "shell.execute_reply.started": "2023-05-16T02:07:41.641596Z"
    },
    "tags": []
   },
   "outputs": [
    {
     "data": {
      "text/plain": [
       "['a2 act car', 'g1 act car', 'a8 act zoo', 'ab1 off key dog']"
      ]
     },
     "execution_count": 7,
     "metadata": {},
     "output_type": "execute_result"
    }
   ],
   "source": [
    "# 리스트 다중 정렬 2 \n",
    "# 리스트 슬라이스로 정렬 조건 가능\n",
    "list1 = [\"g1 act car\",\"ab1 off key dog\",\"a8 act zoo\",\"a2 act car\"]\n",
    "\n",
    "# 두번째 요소 부터 끝까지 정렬한 다음, 첫번째 요소로 정렬\n",
    "sorted(list1, key=lambda x: (x.split(' ')[1:],x.split(' ')[0]))"
   ]
  },
  {
   "cell_type": "code",
   "execution_count": 77,
   "id": "80f18ad3-665a-452f-81be-3bbb8b3f6c3d",
   "metadata": {
    "execution": {
     "iopub.execute_input": "2023-05-10T03:06:21.877622Z",
     "iopub.status.busy": "2023-05-10T03:06:21.876615Z",
     "iopub.status.idle": "2023-05-10T03:06:21.883678Z",
     "shell.execute_reply": "2023-05-10T03:06:21.882678Z",
     "shell.execute_reply.started": "2023-05-10T03:06:21.877622Z"
    },
    "tags": []
   },
   "outputs": [
    {
     "name": "stdout",
     "output_type": "stream",
     "text": [
      "[('a', 3), ('b', 2), ('c', 1), ('d', 1)]\n",
      "[('c', 1), ('d', 1), ('b', 2), ('a', 3)]\n",
      "[('d', 1), ('c', 1), ('b', 2), ('a', 3)]\n"
     ]
    }
   ],
   "source": [
    "# 딕셔너리 정렬\n",
    "my_dict = {\"c\": 1, \"a\": 3, \"b\": 2,'d':1}\n",
    "\n",
    "# 키을 기준으로 정렬\n",
    "sorted_keys = sorted(my_dict.items(), key=lambda x: x[0])\n",
    "print(sorted_keys) # [(\"a\", 1), (\"b\", 2), (\"c\", 3)]\n",
    "\n",
    "# 값을 기준으로 정렬\n",
    "sorted_values = sorted(my_dict.items(), key=lambda x: x[1])\n",
    "print(sorted_values) # [(\"a\", 1), (\"b\", 2), (\"c\", 3)]\n",
    "\n",
    "# 딕셔너리 다중 정렬\n",
    "# 문자열인 요소는 -으로 내림차순으로 못바꿈(애러뜸)\n",
    "# 그래서 원하는 조건을 반대로 설정하고 reverse로 다시 되돌려준다.\n",
    "print(sorted(my_dict.items(),key=lambda x:(-x[1],x[0]),reverse=True))\n"
   ]
  },
  {
   "cell_type": "code",
   "execution_count": 204,
   "id": "3b750cb2-e4c2-4810-aa8d-35db045e2cc1",
   "metadata": {
    "execution": {
     "iopub.execute_input": "2023-05-10T05:20:24.479146Z",
     "iopub.status.busy": "2023-05-10T05:20:24.478146Z",
     "iopub.status.idle": "2023-05-10T05:20:24.483486Z",
     "shell.execute_reply": "2023-05-10T05:20:24.483486Z",
     "shell.execute_reply.started": "2023-05-10T05:20:24.479146Z"
    },
    "tags": []
   },
   "outputs": [
    {
     "name": "stdout",
     "output_type": "stream",
     "text": [
      "abcd                \n",
      "        abcd        \n",
      "                abcd\n"
     ]
    }
   ],
   "source": [
    "# 문자열 공백 정렬\n",
    "s = 'abcd'\n",
    "n = 20\n",
    "\n",
    "# 좌측 정렬 abcd 4칸, 빈칸 16칸\n",
    "print(s.ljust(n))\n",
    "# 가운데 정렬 빈칸 8칸 abcd 4칸 빈칸 8칸 이런식\n",
    "print(s.center(n))\n",
    "# 우측 정렬\n",
    "print(s.rjust(n))"
   ]
  },
  {
   "cell_type": "code",
   "execution_count": 4,
   "id": "7c74c771-78c7-46d8-a3ec-2846c8f54f1d",
   "metadata": {
    "execution": {
     "iopub.execute_input": "2023-06-07T04:05:16.843082Z",
     "iopub.status.busy": "2023-06-07T04:05:16.842084Z",
     "iopub.status.idle": "2023-06-07T04:05:16.852920Z",
     "shell.execute_reply": "2023-06-07T04:05:16.851923Z",
     "shell.execute_reply.started": "2023-06-07T04:05:16.843082Z"
    },
    "tags": []
   },
   "outputs": [
    {
     "data": {
      "text/plain": [
       "'9534330'"
      ]
     },
     "execution_count": 4,
     "metadata": {},
     "output_type": "execute_result"
    }
   ],
   "source": [
    "# https://school.programmers.co.kr/learn/courses/30/lessons/42746\n",
    "# 프스 정렬 문제\n",
    "import functools\n",
    "\n",
    "# 여기서 a,b는 정렬할 리스트의 요소 들이다\n",
    "def comparator(a,b):\n",
    "    t1 = a+b\n",
    "    t2 = b+a\n",
    "    \n",
    "    return (int(t1) > int(t2)) - (int(t1) < int(t2)) #  t1이 크다면 1  // t2가 크다면 -1  //  같으면 0\n",
    "\n",
    "def solution(numbers):\n",
    "    n = [str(x) for x in numbers]\n",
    "    n = sorted(n, key=functools.cmp_to_key(comparator),reverse=True)\n",
    "    answer = str(int(''.join(n)))\n",
    "    return answer\n",
    "\n",
    "numbers = [3, 30, 34, 5, 9]\n",
    "solution(numbers)"
   ]
  },
  {
   "cell_type": "markdown",
   "id": "570faefa-9822-4060-9131-c88ec154fe69",
   "metadata": {
    "jp-MarkdownHeadingCollapsed": true,
    "tags": []
   },
   "source": [
    "## 중복 제거\n",
    "\n",
    "리스트 나 문자열에서 중보되는 요소 제거하는 방법\n",
    "\n",
    "set 과 dict를 이용한다\n",
    "\n",
    "set은 순서 유지가 안됌, dict는 됌\n",
    "\n",
    "2차원 리스트 중복 제거"
   ]
  },
  {
   "cell_type": "code",
   "execution_count": 92,
   "id": "fb954c66-6946-4059-9671-53fa0c734b4a",
   "metadata": {
    "execution": {
     "iopub.execute_input": "2023-05-10T03:32:11.298094Z",
     "iopub.status.busy": "2023-05-10T03:32:11.298094Z",
     "iopub.status.idle": "2023-05-10T03:32:11.303520Z",
     "shell.execute_reply": "2023-05-10T03:32:11.302522Z",
     "shell.execute_reply.started": "2023-05-10T03:32:11.298094Z"
    },
    "tags": []
   },
   "outputs": [
    {
     "name": "stdout",
     "output_type": "stream",
     "text": [
      "{'l', 'o', 'e', 'p'}\n",
      "{'l', 'o', 'e', 'p'}\n"
     ]
    }
   ],
   "source": [
    "# set을 이용한 중복 제거(순서 유지 안됌)\n",
    "# 순서대로 peol 출력하길 원하나 loep 출력\n",
    "a = 'people'\n",
    "b = list('people')\n",
    "\n",
    "print(set(a))\n",
    "print(set(b))"
   ]
  },
  {
   "cell_type": "code",
   "execution_count": 95,
   "id": "4bc0c53a-0c26-41b7-880f-0eacc1954b5f",
   "metadata": {
    "execution": {
     "iopub.execute_input": "2023-05-10T03:34:37.484113Z",
     "iopub.status.busy": "2023-05-10T03:34:37.484113Z",
     "iopub.status.idle": "2023-05-10T03:34:37.488147Z",
     "shell.execute_reply": "2023-05-10T03:34:37.488147Z",
     "shell.execute_reply.started": "2023-05-10T03:34:37.484113Z"
    },
    "tags": []
   },
   "outputs": [
    {
     "name": "stdout",
     "output_type": "stream",
     "text": [
      "{'p': None, 'e': None, 'o': None, 'l': None}\n",
      "['p', 'e', 'o', 'l']\n"
     ]
    }
   ],
   "source": [
    "# dict.fromkeys 를 이용한 중복 제거\n",
    "# 문자열 순서대로 출력 됌\n",
    "a =dict.fromkeys('people')\n",
    "print(a)\n",
    "print(list(a))"
   ]
  },
  {
   "cell_type": "code",
   "execution_count": 38,
   "id": "8af08732-5d6b-40e7-bb12-1ae91a08af34",
   "metadata": {
    "execution": {
     "iopub.execute_input": "2023-06-19T08:08:19.006594Z",
     "iopub.status.busy": "2023-06-19T08:08:19.005594Z",
     "iopub.status.idle": "2023-06-19T08:08:19.011903Z",
     "shell.execute_reply": "2023-06-19T08:08:19.010903Z",
     "shell.execute_reply.started": "2023-06-19T08:08:19.006594Z"
    },
    "tags": []
   },
   "outputs": [
    {
     "data": {
      "text/plain": [
       "[[], [9, 9]]"
      ]
     },
     "execution_count": 38,
     "metadata": {},
     "output_type": "execute_result"
    }
   ],
   "source": [
    "# 2차원 리스트 중복 제거\n",
    "list1 = [[9, 9], [], [], [9, 9]]\n",
    "\n",
    "# list를 tuple로 그리고 set으로 변환해 중복값을 제거\n",
    "list(map(list,set(map(tuple,list1))))\n"
   ]
  },
  {
   "cell_type": "markdown",
   "id": "b3232e79-b495-44cf-862e-048334e434b2",
   "metadata": {
    "tags": []
   },
   "source": [
    "## 카운트\n",
    "\n",
    "collections 의 Counter 이용\n"
   ]
  },
  {
   "cell_type": "code",
   "execution_count": 4,
   "id": "3f6626b7-96b9-40f2-8a42-aea7424def6a",
   "metadata": {
    "execution": {
     "iopub.execute_input": "2023-08-04T03:17:10.630381Z",
     "iopub.status.busy": "2023-08-04T03:17:10.629382Z",
     "iopub.status.idle": "2023-08-04T03:17:10.636620Z",
     "shell.execute_reply": "2023-08-04T03:17:10.635621Z",
     "shell.execute_reply.started": "2023-08-04T03:17:10.630381Z"
    },
    "tags": []
   },
   "outputs": [
    {
     "name": "stdout",
     "output_type": "stream",
     "text": [
      "Counter({2: 5, 1: 4, 3: 3, 7: 3, 4: 2, 5: 2, 6: 2, 8: 2, 9: 2, 0: 2})\n",
      "4\n",
      "3\n",
      "0\n"
     ]
    }
   ],
   "source": [
    "import collections\n",
    "my_list = [1, 2,2,2, 3, 4, 5, 6, 7, 8, 7, 9, 1, 2, 3, 3, 5, 2, 6, 8, 9, 0, 1, 1, 4, 7, 0]\n",
    "answer = collections.Counter(my_list)\n",
    "print( answer)\n",
    "# 리턴값은 딕셔너리 키(요소):값(개수)\n",
    "print(answer[1]) # = 4개 있음\n",
    "print(answer[3])  # = 3개 있음\n",
    "print(answer[100]) # = 0개 있음"
   ]
  },
  {
   "cell_type": "code",
   "execution_count": 20,
   "id": "0e019588-6fca-4986-9792-65d3afdb9560",
   "metadata": {
    "execution": {
     "iopub.execute_input": "2023-05-16T04:30:49.781750Z",
     "iopub.status.busy": "2023-05-16T04:30:49.781750Z",
     "iopub.status.idle": "2023-05-16T04:30:49.786750Z",
     "shell.execute_reply": "2023-05-16T04:30:49.786750Z",
     "shell.execute_reply.started": "2023-05-16T04:30:49.781750Z"
    },
    "tags": []
   },
   "outputs": [
    {
     "name": "stdout",
     "output_type": "stream",
     "text": [
      "[(2, 5), (1, 4), (3, 3), (7, 3), (4, 2), (5, 2), (6, 2), (8, 2), (9, 2), (0, 2)]\n",
      "[(2, 5), (1, 4), (3, 3)]\n",
      "2\n"
     ]
    }
   ],
   "source": [
    "# 가장 큰 값의 키 구하기\n",
    "import collections\n",
    "my_list = [1, 2,2,2, 3, 4, 5, 6, 7, 8, 7, 9, 1, 2, 3, 3, 5, 2, 6, 8, 9, 0, 1, 1, 4, 7, 0]\n",
    "answer = collections.Counter(my_list)\n",
    "\n",
    "print(answer.most_common()) # 가장 큰 값을 기준으로 내림차순 정렬 됌\n",
    "print(answer.most_common(3)) # 3등까지 출력\n",
    "print(answer.most_common(1)[0][0]) # 1등의 키 가져오기\n"
   ]
  },
  {
   "cell_type": "code",
   "execution_count": 8,
   "id": "8b6e93a3-b63e-4394-976c-380fc779cc38",
   "metadata": {
    "execution": {
     "iopub.execute_input": "2023-05-17T05:59:45.627725Z",
     "iopub.status.busy": "2023-05-17T05:59:45.626727Z",
     "iopub.status.idle": "2023-05-17T05:59:45.634891Z",
     "shell.execute_reply": "2023-05-17T05:59:45.633891Z",
     "shell.execute_reply.started": "2023-05-17T05:59:45.627725Z"
    },
    "tags": []
   },
   "outputs": [
    {
     "name": "stdout",
     "output_type": "stream",
     "text": [
      "Counter({'mislav': 2, 'stanko': 1, 'ana': 1})\n",
      "Counter({'stanko': 1, 'ana': 1, 'mislav': 1})\n"
     ]
    },
    {
     "data": {
      "text/plain": [
       "'mislav'"
      ]
     },
     "execution_count": 8,
     "metadata": {},
     "output_type": "execute_result"
    }
   ],
   "source": [
    "# collections 끼리 연산(+,-) 가능하다\n",
    "import collections\n",
    "\n",
    "def solution(participant, completion):\n",
    "    print(collections.Counter(participant))\n",
    "    print(collections.Counter(completion))\n",
    "    return list(collections.Counter(participant) - collections.Counter(completion))[0]\n",
    "\n",
    "participant = [\"mislav\", \"stanko\", \"mislav\", \"ana\"]\n",
    "completion = [\"stanko\", \"ana\", \"mislav\"]\n",
    "solution(participant, completion)"
   ]
  },
  {
   "cell_type": "markdown",
   "id": "e2a10f48-366f-4489-9230-9ab3ed684ec8",
   "metadata": {
    "jp-MarkdownHeadingCollapsed": true,
    "tags": []
   },
   "source": [
    "## 서로 타입 바꾸기\n",
    "\n",
    "문자열, 리스트, 딕셔너리 서로간 타입 바꾸기"
   ]
  },
  {
   "cell_type": "code",
   "execution_count": 1,
   "id": "6c20b4d1-e44d-4a3e-984a-06ad89df3fd5",
   "metadata": {
    "execution": {
     "iopub.execute_input": "2023-06-07T00:41:31.512392Z",
     "iopub.status.busy": "2023-06-07T00:41:31.512392Z",
     "iopub.status.idle": "2023-06-07T00:41:31.523915Z",
     "shell.execute_reply": "2023-06-07T00:41:31.523915Z",
     "shell.execute_reply.started": "2023-06-07T00:41:31.512392Z"
    },
    "tags": []
   },
   "outputs": [
    {
     "name": "stdout",
     "output_type": "stream",
     "text": [
      "1213\n",
      "1213\n",
      "['a', 'b', '1', '2']\n"
     ]
    }
   ],
   "source": [
    "list1 = [1,2,1,3]\n",
    "str1 = 'ab12'\n",
    "\n",
    "# 리스트 -> 문자열\n",
    "print(''.join(map(str,list1))) #list1에 문자열 요소만 있을 때 가능\n",
    "print(''.join([str(i) for i in list1])) # map 안쓰고 컴프리핸션으로 가능\n",
    "\n",
    "# 문자열 -> 리스트\n",
    "print(list(str1))"
   ]
  },
  {
   "cell_type": "code",
   "execution_count": 2,
   "id": "b866c806-8a57-41a1-a389-4be32cd2d535",
   "metadata": {
    "execution": {
     "iopub.execute_input": "2023-06-28T00:30:51.479788Z",
     "iopub.status.busy": "2023-06-28T00:30:51.479788Z",
     "iopub.status.idle": "2023-06-28T00:30:51.484635Z",
     "shell.execute_reply": "2023-06-28T00:30:51.484635Z",
     "shell.execute_reply.started": "2023-06-28T00:30:51.479788Z"
    },
    "tags": []
   },
   "outputs": [
    {
     "name": "stdout",
     "output_type": "stream",
     "text": [
      "{1: None, 2: None, 3: None, 4: None}\n",
      "{1: 2, 3: 4}\n",
      "['a', 'b', 'c']\n",
      "[1, 2, 3]\n"
     ]
    }
   ],
   "source": [
    "dict1 = {\"a\":1,'b':2,'c':3}\n",
    "\n",
    "# 리스트 -> 딕셔너리\n",
    "print(dict.fromkeys([1,2,3,4]))\n",
    "print(dict([[1,2],[3,4]]))\n",
    "\n",
    "# 딕셔너리 -> 리스트\n",
    "print(list(dict1)) # 기본값이 keys()\n",
    "print(list(dict1.values()))"
   ]
  },
  {
   "cell_type": "code",
   "execution_count": 4,
   "id": "8e793d44-6b25-4ba1-a398-b4dfe16241eb",
   "metadata": {
    "execution": {
     "iopub.execute_input": "2023-06-28T00:31:08.516815Z",
     "iopub.status.busy": "2023-06-28T00:31:08.516815Z",
     "iopub.status.idle": "2023-06-28T00:31:08.522335Z",
     "shell.execute_reply": "2023-06-28T00:31:08.521334Z",
     "shell.execute_reply.started": "2023-06-28T00:31:08.516815Z"
    },
    "tags": []
   },
   "outputs": [
    {
     "name": "stdout",
     "output_type": "stream",
     "text": [
      "{'1': None, '2': None, '3': None, '4': None}\n",
      "abc\n"
     ]
    }
   ],
   "source": [
    "# 문자열 -> 딕셔너리 \n",
    "print(dict.fromkeys('1234'))\n",
    "\n",
    "# 딕셔너리 -> 문자열\n",
    "print(''.join(dict1))"
   ]
  },
  {
   "cell_type": "markdown",
   "id": "01587c00-95ef-4bf3-93ef-504c023f45ca",
   "metadata": {
    "jp-MarkdownHeadingCollapsed": true,
    "tags": []
   },
   "source": [
    "## 리스트 다루기\n",
    "https://beaholic.tistory.com/19\n",
    "\n",
    "컴프리헨션\n",
    "\n",
    "슬라이싱(+ range) +단점은 슬라이싱은 객체를 복사하기 때문에 객체의 크기가 매우크면 속도 저하가 일어난다(파알인 536p 보기)\n",
    "\n",
    "리스트 짜집기(pop,insert,append대신 사용. 이 3개는 원본 리스트를 바꿔버림)\n",
    "\n",
    "리스트 요소 더하기,합치기\n",
    "\n",
    "리스트 none값 제거(filter)\n",
    "\n",
    "리스트 순회 반복하기\n",
    "\n",
    "리스트 넘버링 붙이기(enumerate)\n",
    "\n",
    "리스트 랭크 구하기\n",
    "\n",
    "리스트 2차원->1차원\n",
    "\n",
    "리스트 연산 *,+\n"
   ]
  },
  {
   "cell_type": "code",
   "execution_count": 138,
   "id": "5fcaad61-3cf3-4cb6-b6be-b63b478619ae",
   "metadata": {
    "execution": {
     "iopub.execute_input": "2023-05-10T04:22:07.918691Z",
     "iopub.status.busy": "2023-05-10T04:22:07.918691Z",
     "iopub.status.idle": "2023-05-10T04:22:07.923722Z",
     "shell.execute_reply": "2023-05-10T04:22:07.923207Z",
     "shell.execute_reply.started": "2023-05-10T04:22:07.918691Z"
    },
    "tags": []
   },
   "outputs": [
    {
     "name": "stdout",
     "output_type": "stream",
     "text": [
      "['1:홀수', '2:짝수', '3:홀수', '4:짝수']\n"
     ]
    }
   ],
   "source": [
    "# 리스트 컴프리헨션\n",
    "list1 = [1,2,3,4,5,6]\n",
    "print([ str(a)+':짝수' if a%2==0 else str(a)+':홀수' for a in list1 if a<5])"
   ]
  },
  {
   "cell_type": "code",
   "execution_count": 148,
   "id": "f4c65351-6e11-42f3-944c-574eb125257e",
   "metadata": {
    "execution": {
     "iopub.execute_input": "2023-05-10T04:29:28.663256Z",
     "iopub.status.busy": "2023-05-10T04:29:28.663256Z",
     "iopub.status.idle": "2023-05-10T04:29:28.668142Z",
     "shell.execute_reply": "2023-05-10T04:29:28.668142Z",
     "shell.execute_reply.started": "2023-05-10T04:29:28.663256Z"
    },
    "tags": []
   },
   "outputs": [
    {
     "name": "stdout",
     "output_type": "stream",
     "text": [
      "[2, 4, 6, 8]\n",
      "[9, 8, 7, 6, 5]\n",
      "[1, 2, 3, 4, 5, 6, 7, 8]\n",
      "[1, 2, 3, 4, 5, 6, 7, 8, 9]\n"
     ]
    }
   ],
   "source": [
    "# 리스트 슬라이싱 [시작,끝,간격]\n",
    "numbers =[1, 2, 3, 4, 5, 6, 7, 8, 9]\n",
    "print(numbers[1::2]) # 인덱스1 부터 2칸씩 \n",
    "print(numbers[-1:-6:-1]) # -1(맨뒤) 인덱스 부터 -1칸씩 진행\n",
    "print(numbers[:-1]) # -1(맨뒤) 인덱스 까지\n",
    "print(numbers[:120]) # 120까지 해도 애러 안뜸!"
   ]
  },
  {
   "cell_type": "code",
   "execution_count": 152,
   "id": "82a27ffa-fbeb-43e4-a738-0130a7264160",
   "metadata": {
    "execution": {
     "iopub.execute_input": "2023-05-10T04:30:09.722752Z",
     "iopub.status.busy": "2023-05-10T04:30:09.721785Z",
     "iopub.status.idle": "2023-05-10T04:30:09.727273Z",
     "shell.execute_reply": "2023-05-10T04:30:09.727273Z",
     "shell.execute_reply.started": "2023-05-10T04:30:09.722752Z"
    },
    "tags": []
   },
   "outputs": [
    {
     "name": "stdout",
     "output_type": "stream",
     "text": [
      "[1, 2, 3, 4, 5, 6, 7, 8, 9]\n",
      "[1, 3, 5, 7, 9]\n"
     ]
    }
   ],
   "source": [
    "# range 슬라이싱 (시작,끝,간격)\n",
    "print(list(range(1,10,1)))\n",
    "print(list(range(1,10,2)))"
   ]
  },
  {
   "cell_type": "code",
   "execution_count": 162,
   "id": "9ea80045-c79a-4027-95b1-56322f28ad0a",
   "metadata": {
    "execution": {
     "iopub.execute_input": "2023-05-10T04:44:09.324120Z",
     "iopub.status.busy": "2023-05-10T04:44:09.324120Z",
     "iopub.status.idle": "2023-05-10T04:44:09.331165Z",
     "shell.execute_reply": "2023-05-10T04:44:09.330186Z",
     "shell.execute_reply.started": "2023-05-10T04:44:09.324120Z"
    },
    "tags": []
   },
   "outputs": [
    {
     "name": "stdout",
     "output_type": "stream",
     "text": [
      "[4, 1, 2, 3]\n",
      "[3, 4, 1, 2]\n",
      "3412\n"
     ]
    }
   ],
   "source": [
    "# 슬라이싱 활용 + 리스트 짜집기\n",
    "# 예 1234를 3412로 바꾸기\n",
    "list1 = [1,2,3,4]\n",
    "print(list1[2:4]+list1[0:2] )\n",
    "\n",
    "str1 = '1234'\n",
    "print(str1[2:4]+str1[0:2]) "
   ]
  },
  {
   "cell_type": "code",
   "execution_count": 163,
   "id": "216be925-abfe-414c-8bbb-ad320feb5bcc",
   "metadata": {
    "execution": {
     "iopub.execute_input": "2023-05-10T04:49:26.129580Z",
     "iopub.status.busy": "2023-05-10T04:49:26.128617Z",
     "iopub.status.idle": "2023-05-10T04:49:26.133843Z",
     "shell.execute_reply": "2023-05-10T04:49:26.133843Z",
     "shell.execute_reply.started": "2023-05-10T04:49:26.129580Z"
    },
    "tags": []
   },
   "outputs": [
    {
     "name": "stdout",
     "output_type": "stream",
     "text": [
      "6\n",
      "123\n"
     ]
    }
   ],
   "source": [
    "# 리스트 요소 값 더하기,합치기\n",
    "# 숫자는 sum(), 문자열은 join()\n",
    "a = [1,2,3]\n",
    "b = ['1','2','3']\n",
    "\n",
    "print(sum(a))\n",
    "print(''.join(b))\n"
   ]
  },
  {
   "cell_type": "code",
   "execution_count": 140,
   "id": "b6cc59b1-d1a0-41f6-bc4b-9f101621d9a2",
   "metadata": {
    "execution": {
     "iopub.execute_input": "2023-05-10T04:24:51.459842Z",
     "iopub.status.busy": "2023-05-10T04:24:51.459842Z",
     "iopub.status.idle": "2023-05-10T04:24:51.466840Z",
     "shell.execute_reply": "2023-05-10T04:24:51.465841Z",
     "shell.execute_reply.started": "2023-05-10T04:24:51.459842Z"
    },
    "tags": []
   },
   "outputs": [
    {
     "data": {
      "text/plain": [
       "['A', 'B', 'C', 'D']"
      ]
     },
     "execution_count": 140,
     "metadata": {},
     "output_type": "execute_result"
    }
   ],
   "source": [
    "# 리스트 none값 제거\n",
    "a = ['A','B','','C','',None,'D']\n",
    "list(filter(None, a))"
   ]
  },
  {
   "cell_type": "code",
   "execution_count": 1,
   "id": "824c87e4-7bc0-4faa-8709-4e6b699ea40a",
   "metadata": {
    "execution": {
     "iopub.execute_input": "2023-06-08T06:39:50.987324Z",
     "iopub.status.busy": "2023-06-08T06:39:50.986322Z",
     "iopub.status.idle": "2023-06-08T06:39:51.052077Z",
     "shell.execute_reply": "2023-06-08T06:39:51.051078Z",
     "shell.execute_reply.started": "2023-06-08T06:39:50.987324Z"
    },
    "tags": []
   },
   "outputs": [
    {
     "data": {
      "text/plain": [
       "1"
      ]
     },
     "execution_count": 1,
     "metadata": {},
     "output_type": "execute_result"
    }
   ],
   "source": [
    "# 리스트 순회 반복하기\n",
    "numbers = [1,2,3,4]\n",
    "i = 2 # 2칸씩 이동\n",
    "k = 5 #원하는 인덱스\n",
    "\n",
    "# 리스트 길이만큼 나머지로 나눠주면 리스트 길이 넘어가면 다시 0으로 돌아옴\n",
    "numbers[i * (k - 1) % len(numbers)]"
   ]
  },
  {
   "cell_type": "code",
   "execution_count": 1,
   "id": "2ddb7323-905a-40f9-9cfa-2fda82881893",
   "metadata": {
    "execution": {
     "iopub.execute_input": "2023-07-31T06:38:05.658870Z",
     "iopub.status.busy": "2023-07-31T06:38:05.656870Z",
     "iopub.status.idle": "2023-07-31T06:38:05.698067Z",
     "shell.execute_reply": "2023-07-31T06:38:05.697070Z",
     "shell.execute_reply.started": "2023-07-31T06:38:05.657869Z"
    },
    "tags": []
   },
   "outputs": [
    {
     "name": "stdout",
     "output_type": "stream",
     "text": [
      "[[1, 1], [2, 2], [3, 3], [4, 4], [5, 5]]\n",
      "0 1 1\n",
      "1 2 2\n",
      "2 3 3\n",
      "3 4 4\n",
      "4 5 5\n"
     ]
    }
   ],
   "source": [
    "# 리스트 넘버링 붙이기 \n",
    "data = [1, 2, 3, 4, 5]\n",
    "print([[i,val] for i, val in enumerate(data,start=1)])\n",
    "\n",
    "# enumerate와 같이 쓰기\n",
    "data1 = [1, 2, 3, 4, 5]\n",
    "for i, (a, b) in enumerate(zip(data,data1)): # (a, b) 괄화 안하면 에러뜸\n",
    "    print(i, gen, pl)"
   ]
  },
  {
   "cell_type": "code",
   "execution_count": 175,
   "id": "3fc9a06d-6734-4e8a-99aa-91382311d70f",
   "metadata": {
    "execution": {
     "iopub.execute_input": "2023-05-10T05:01:56.989771Z",
     "iopub.status.busy": "2023-05-10T05:01:56.988772Z",
     "iopub.status.idle": "2023-05-10T05:01:56.996339Z",
     "shell.execute_reply": "2023-05-10T05:01:56.995342Z",
     "shell.execute_reply.started": "2023-05-10T05:01:56.989771Z"
    },
    "tags": []
   },
   "outputs": [
    {
     "data": {
      "text/plain": [
       "[3, 3, 5, 6, 1, 8, 2, 7]"
      ]
     },
     "execution_count": 175,
     "metadata": {},
     "output_type": "execute_result"
    }
   ],
   "source": [
    "# 리스트 랭크 구하기\n",
    "a = [5,5,4,3,7,1,6,2]\n",
    "b = sorted(a,reverse=True)\n",
    "\n",
    "# 7의 등수는 1등\n",
    "[b.index(i)+1 for i in a]"
   ]
  },
  {
   "cell_type": "code",
   "execution_count": 177,
   "id": "82859b69-d35d-4fd0-862e-4ad89f8b69f8",
   "metadata": {
    "execution": {
     "iopub.execute_input": "2023-05-10T05:05:11.673040Z",
     "iopub.status.busy": "2023-05-10T05:05:11.672022Z",
     "iopub.status.idle": "2023-05-10T05:05:11.677241Z",
     "shell.execute_reply": "2023-05-10T05:05:11.677241Z",
     "shell.execute_reply.started": "2023-05-10T05:05:11.673040Z"
    },
    "tags": []
   },
   "outputs": [
    {
     "data": {
      "text/plain": [
       "[1, 2, 3, 4, 5, 6]"
      ]
     },
     "execution_count": 177,
     "metadata": {},
     "output_type": "execute_result"
    }
   ],
   "source": [
    "# 리스트 2차원 -> 1차원\n",
    "my_list = [[1, 2], [3, 4], [5, 6]]\n",
    "\n",
    "# 방법 1 - sum 함수\n",
    "sum(my_list, [])"
   ]
  },
  {
   "cell_type": "code",
   "execution_count": 178,
   "id": "c181fd95-9eb4-4b30-94fd-2b975321cbee",
   "metadata": {
    "execution": {
     "iopub.execute_input": "2023-05-10T05:06:10.976578Z",
     "iopub.status.busy": "2023-05-10T05:06:10.976578Z",
     "iopub.status.idle": "2023-05-10T05:06:10.981112Z",
     "shell.execute_reply": "2023-05-10T05:06:10.981112Z",
     "shell.execute_reply.started": "2023-05-10T05:06:10.976578Z"
    },
    "tags": []
   },
   "outputs": [
    {
     "name": "stdout",
     "output_type": "stream",
     "text": [
      "[1, 2, 3, 4]\n",
      "[1, 2, 1, 2, 1, 2]\n"
     ]
    }
   ],
   "source": [
    "# 리스트 연산 +, * ,-(는 안됌!)\n",
    "print([1,2]+[3,4])\n",
    "print([1,2]*3)\n"
   ]
  },
  {
   "cell_type": "markdown",
   "id": "b3417d91-400e-4948-8f76-41a73f55823d",
   "metadata": {
    "jp-MarkdownHeadingCollapsed": true,
    "tags": []
   },
   "source": [
    "## 힙 다루기\n",
    "\n",
    "기본적으로 최소 힙을 지원. heapq의 0번째 인덱스는 가장 작은 값이 온다"
   ]
  },
  {
   "cell_type": "code",
   "execution_count": 2,
   "id": "cbf8c29c-e5a3-4c84-a697-1d3464743ab4",
   "metadata": {
    "execution": {
     "iopub.execute_input": "2023-06-08T06:41:56.703539Z",
     "iopub.status.busy": "2023-06-08T06:41:56.702531Z",
     "iopub.status.idle": "2023-06-08T06:41:56.713144Z",
     "shell.execute_reply": "2023-06-08T06:41:56.713144Z",
     "shell.execute_reply.started": "2023-06-08T06:41:56.703539Z"
    },
    "tags": []
   },
   "outputs": [
    {
     "name": "stdout",
     "output_type": "stream",
     "text": [
      "[1, 3, 7, 4]\n",
      "1\n",
      "1\n",
      "[3, 4, 7]\n",
      "[0, 1, 5, 9, 2]\n",
      "[-7, -3, -4, -1]\n"
     ]
    }
   ],
   "source": [
    "import heapq\n",
    "\n",
    "# 힙에 요소 추가하기\n",
    "heap = []\n",
    "heapq.heappush(heap, 4)\n",
    "heapq.heappush(heap, 1)\n",
    "heapq.heappush(heap, 7)\n",
    "heapq.heappush(heap, 3)\n",
    "print(heap)  # 출력: [1, 3, 7, 4]\n",
    "\n",
    "# 최소값 확인하기\n",
    "min_value = heap[0]\n",
    "print(min_value)  # 출력: 1\n",
    "\n",
    "# 최소값 제거하기\n",
    "min_value = heapq.heappop(heap)\n",
    "print(min_value)  # 출력: 1\n",
    "print(heap)  # 출력: [3, 4, 7]\n",
    "\n",
    "# 리스트를 힙으로 변환하기 ** 원본을 수정하는 방식ㅋ\n",
    "lst = [9, 2, 5, 1, 0]\n",
    "heapq.heapify(lst)\n",
    "print(lst)  # 출력: [0, 1, 5, 2, 9]\n",
    "\n",
    "# 최대 힙 사용하기\n",
    "max_heap = []\n",
    "heapq.heappush(max_heap, -4)\n",
    "heapq.heappush(max_heap, -1)\n",
    "heapq.heappush(max_heap, -7)\n",
    "heapq.heappush(max_heap, -3)\n",
    "print(max_heap)  # 출력: [(-7, 'cherry'), (-3, 'durian'), (-1, 'banana'), (-4, 'apple')]\n"
   ]
  },
  {
   "cell_type": "markdown",
   "id": "c4f425c5-0d97-4129-b8a5-b64fc95d66e0",
   "metadata": {
    "jp-MarkdownHeadingCollapsed": true,
    "tags": []
   },
   "source": [
    "## 문자열 다루기\n",
    "\n",
    "문자열로 숫자,대소문자 출력\n",
    "\n",
    "문자열 숫자,문자 구별하기\n",
    "\n",
    "문자열 대소문자 구별, 바꾸기\n",
    "\n",
    "문자열 바꾸기(replace)\n",
    "\n",
    "문자열 공백 정렬\n",
    "\n",
    "정규 표현식을 이용한 문자열 다루기(찾기,나누기)\n",
    "\n",
    "문자열 포멧팅"
   ]
  },
  {
   "cell_type": "code",
   "execution_count": 203,
   "id": "12dc8eb1-7240-4b45-97b1-98c2611348e3",
   "metadata": {
    "execution": {
     "iopub.execute_input": "2023-05-10T05:18:15.890186Z",
     "iopub.status.busy": "2023-05-10T05:18:15.890186Z",
     "iopub.status.idle": "2023-05-10T05:18:15.894553Z",
     "shell.execute_reply": "2023-05-10T05:18:15.894553Z",
     "shell.execute_reply.started": "2023-05-10T05:18:15.890186Z"
    },
    "tags": []
   },
   "outputs": [
    {
     "name": "stdout",
     "output_type": "stream",
     "text": [
      "abcdefghijklmnopqrstuvwxyz\n",
      "ABCDEFGHIJKLMNOPQRSTUVWXYZ\n",
      "abcdefghijklmnopqrstuvwxyzABCDEFGHIJKLMNOPQRSTUVWXYZ\n",
      "0123456789\n"
     ]
    }
   ],
   "source": [
    "# 문자열로 숫자,대소문자 출력\n",
    "import string \n",
    "\n",
    "print(string.ascii_lowercase) # 소문자 abcdefghijklmnopqrstuvwxyz\n",
    "print(string.ascii_uppercase) # 대문자 ABCDEFGHIJKLMNOPQRSTUVWXYZ\n",
    "print(string.ascii_letters) # 대소문자 모두 abcdefghijklmnopqrstuvwxyzABCDEFGHIJKLMNOPQRSTUVWXYZ\n",
    "print(string.digits) # 숫자 0123456789"
   ]
  },
  {
   "cell_type": "code",
   "execution_count": 5,
   "id": "73a7618e-0562-41f6-a96c-943b08b96950",
   "metadata": {
    "execution": {
     "iopub.execute_input": "2023-05-16T00:48:26.814399Z",
     "iopub.status.busy": "2023-05-16T00:48:26.814399Z",
     "iopub.status.idle": "2023-05-16T00:48:26.818707Z",
     "shell.execute_reply": "2023-05-16T00:48:26.818707Z",
     "shell.execute_reply.started": "2023-05-16T00:48:26.814399Z"
    },
    "tags": []
   },
   "outputs": [
    {
     "name": "stdout",
     "output_type": "stream",
     "text": [
      "['문자', '숫자', '문자', '숫자', '문자']\n",
      "True\n",
      "True\n"
     ]
    }
   ],
   "source": [
    "# 문자열 숫자,문자 구별하기\n",
    "a = 'a1b2c'\n",
    "print([ '숫자' if i.isdigit() else '문자' for i in a])\n",
    "\n",
    "# 문자열 인지 구별\n",
    "print('a'.isalpha()) \n",
    "\n",
    "\n",
    "# 숫자 그리고 문자 구별하기 (숫자,문자면 True 아니면 False)\n",
    "print('a1b2c'.isalnum()) \n",
    "\n"
   ]
  },
  {
   "cell_type": "code",
   "execution_count": 202,
   "id": "25ace707-c345-4dd9-b092-027710d85832",
   "metadata": {
    "execution": {
     "iopub.execute_input": "2023-05-10T05:16:34.845839Z",
     "iopub.status.busy": "2023-05-10T05:16:34.845839Z",
     "iopub.status.idle": "2023-05-10T05:16:34.850831Z",
     "shell.execute_reply": "2023-05-10T05:16:34.850831Z",
     "shell.execute_reply.started": "2023-05-10T05:16:34.845839Z"
    },
    "tags": []
   },
   "outputs": [
    {
     "name": "stdout",
     "output_type": "stream",
     "text": [
      "ABCabc123\n",
      "A1\n",
      "a1\n",
      "False\n",
      "True\n"
     ]
    }
   ],
   "source": [
    "# 해당 문자열 대소문자 반전 변환\n",
    "print('abcABC123'.swapcase())\n",
    "\n",
    "# 문자열.upper() - 해당 문자열을 대문자로 변환\n",
    "print('a1'.upper())\n",
    "\n",
    "# 문자열.lower() - 해당 문자열을 소문자로 변환\n",
    "print('A1'.lower())\n",
    "\n",
    "# 문자열.isupper() - 해당 문자열이 대문자인지 판단\n",
    "print('a'.isupper())\n",
    "\n",
    "# 문자열.islower() - 해당 문자열이 소문자인지 판단\n",
    "print('a'.islower())"
   ]
  },
  {
   "cell_type": "code",
   "execution_count": 187,
   "id": "bf209d11-82f7-4a66-bb3e-57444e1cbe94",
   "metadata": {
    "execution": {
     "iopub.execute_input": "2023-05-10T05:12:50.508875Z",
     "iopub.status.busy": "2023-05-10T05:12:50.508875Z",
     "iopub.status.idle": "2023-05-10T05:12:50.513241Z",
     "shell.execute_reply": "2023-05-10T05:12:50.513241Z",
     "shell.execute_reply.started": "2023-05-10T05:12:50.508875Z"
    },
    "tags": []
   },
   "outputs": [
    {
     "name": "stdout",
     "output_type": "stream",
     "text": [
      "qcda\n",
      "cda\n",
      "1bcd1\n"
     ]
    }
   ],
   "source": [
    "# 문자열 바꾸기. 제거도 가능하다\n",
    "print('abcda'.replace('ab','q'))\n",
    "print('abcda'.replace('ab',''))\n",
    "print('abcda'.replace('a','1'))"
   ]
  },
  {
   "cell_type": "code",
   "execution_count": 6,
   "id": "01017e2f-6825-4400-80c5-3ae12fc40978",
   "metadata": {
    "execution": {
     "iopub.execute_input": "2023-05-15T10:03:38.988171Z",
     "iopub.status.busy": "2023-05-15T10:03:38.988171Z",
     "iopub.status.idle": "2023-05-15T10:03:38.992821Z",
     "shell.execute_reply": "2023-05-15T10:03:38.992821Z",
     "shell.execute_reply.started": "2023-05-15T10:03:38.988171Z"
    },
    "tags": []
   },
   "outputs": [
    {
     "name": "stdout",
     "output_type": "stream",
     "text": [
      "['', '1', '2', '34', '']\n",
      "['1', '2', '34']\n",
      "abc123aw\n",
      "['a', 'b', 'c', 'd']\n"
     ]
    }
   ],
   "source": [
    "# 정규 표현식 이용한 문자열 다루기\n",
    "import re\n",
    "print(re.split('[a-z|A-Z]+','aAb1B2cC34oOp')) # 문자열 나누기\n",
    "print(re.findall('[0-9]+', 'aAb1B2cC34oOp')) # 문자 찾기\n",
    "print(re.sub('[^a-z0-9]','','abc,.123.,aw')) # 문자 바꾸기 ^는 not 이랑 같은 의미\n",
    "# 정규 표현식이 필요없을 정도로 간단한거면 이같은 방법으로도 가능\n",
    "print('a b c d'.split(' ')) "
   ]
  },
  {
   "cell_type": "code",
   "execution_count": 6,
   "id": "73539930-5fef-4683-9a30-ad37137350b8",
   "metadata": {
    "execution": {
     "iopub.execute_input": "2023-06-07T04:24:36.845731Z",
     "iopub.status.busy": "2023-06-07T04:24:36.844722Z",
     "iopub.status.idle": "2023-06-07T04:24:36.849723Z",
     "shell.execute_reply": "2023-06-07T04:24:36.849723Z",
     "shell.execute_reply.started": "2023-06-07T04:24:36.845731Z"
    },
    "tags": []
   },
   "outputs": [
    {
     "name": "stdout",
     "output_type": "stream",
     "text": [
      "1+4,3+2\n"
     ]
    }
   ],
   "source": [
    "# format 함수는 가변 함수이므로 리스트를 *로 풀어서 넣어줘야함\n",
    "a = [1,2,3,4]\n",
    "s='{0}+{3},{2}+{1}'.format(*a)\n",
    "print(s)"
   ]
  },
  {
   "cell_type": "code",
   "execution_count": 16,
   "id": "c581e24e-b201-45a7-b444-0dac4c3330c6",
   "metadata": {
    "execution": {
     "iopub.execute_input": "2023-05-10T23:54:08.389743Z",
     "iopub.status.busy": "2023-05-10T23:54:08.389743Z",
     "iopub.status.idle": "2023-05-10T23:54:08.392989Z",
     "shell.execute_reply": "2023-05-10T23:54:08.392989Z",
     "shell.execute_reply.started": "2023-05-10T23:54:08.389743Z"
    },
    "tags": []
   },
   "outputs": [
    {
     "name": "stdout",
     "output_type": "stream",
     "text": [
      "Hi, I am John and I am 25 years old\n"
     ]
    }
   ],
   "source": [
    "# 문자열 포맷팅(Python 3.6 이상 버전에서만 가능)\n",
    "name = 'John'\n",
    "age = 25\n",
    "formatted_message = f'Hi, I am {name} and I am {age} years old'\n",
    "print(formatted_message) # 'Hi, I am John and I am 25 years old'\n",
    "\n"
   ]
  },
  {
   "cell_type": "markdown",
   "id": "4f6605f0-cd3b-40be-b3ae-fa15ddc8d46e",
   "metadata": {
    "jp-MarkdownHeadingCollapsed": true,
    "tags": []
   },
   "source": [
    "## 딕셔너리 다루기\n",
    "\n",
    "딕셔너리 순회하기\n",
    "\n",
    "딕셔너리 키-값 스왑하기(컴프리헨션)\n",
    "\n",
    "딕셔너리 없는 키 조회 시 기본값 처리\n"
   ]
  },
  {
   "cell_type": "code",
   "execution_count": 217,
   "id": "a8a80e42-8ef4-4799-aac0-fe83003e3e19",
   "metadata": {
    "execution": {
     "iopub.execute_input": "2023-05-10T05:33:52.107826Z",
     "iopub.status.busy": "2023-05-10T05:33:52.107826Z",
     "iopub.status.idle": "2023-05-10T05:33:52.112348Z",
     "shell.execute_reply": "2023-05-10T05:33:52.112348Z",
     "shell.execute_reply.started": "2023-05-10T05:33:52.107826Z"
    },
    "tags": []
   },
   "outputs": [
    {
     "name": "stdout",
     "output_type": "stream",
     "text": [
      "2\n",
      "a 1\n",
      "b 2\n",
      "c 3\n"
     ]
    }
   ],
   "source": [
    "# 키 값으로 값 조회하기\n",
    "print({\"a\":1,'b':2,'c':3}['b'])\n",
    "\n",
    "# 모든 요소 조회하기\n",
    "for key,val in {\"a\":1,'b':2,'c':3}.items():\n",
    "    print(key,val)"
   ]
  },
  {
   "cell_type": "code",
   "execution_count": 221,
   "id": "a3003c23-10e3-4b72-867a-dcf0fc1806ff",
   "metadata": {
    "execution": {
     "iopub.execute_input": "2023-05-10T05:43:25.246386Z",
     "iopub.status.busy": "2023-05-10T05:43:25.245417Z",
     "iopub.status.idle": "2023-05-10T05:43:25.252386Z",
     "shell.execute_reply": "2023-05-10T05:43:25.251387Z",
     "shell.execute_reply.started": "2023-05-10T05:43:25.245417Z"
    },
    "tags": []
   },
   "outputs": [
    {
     "data": {
      "text/plain": [
       "{1: 'a', 2: 'b', 3: 'c'}"
      ]
     },
     "execution_count": 221,
     "metadata": {},
     "output_type": "execute_result"
    }
   ],
   "source": [
    "# 키-값 스왑하기\n",
    "# 딕셔너리도 컴프리헨션 가능!\n",
    "a = {\"a\":1,'b':2,'c':3}\n",
    "\n",
    "{val:key for key,val in a.items()}\n"
   ]
  },
  {
   "cell_type": "code",
   "execution_count": 13,
   "id": "6e4901d7-4684-4bdb-af66-a04804373d57",
   "metadata": {
    "execution": {
     "iopub.execute_input": "2023-05-10T23:52:19.480684Z",
     "iopub.status.busy": "2023-05-10T23:52:19.480684Z",
     "iopub.status.idle": "2023-05-10T23:52:19.485631Z",
     "shell.execute_reply": "2023-05-10T23:52:19.485631Z",
     "shell.execute_reply.started": "2023-05-10T23:52:19.480684Z"
    },
    "tags": []
   },
   "outputs": [
    {
     "name": "stdout",
     "output_type": "stream",
     "text": [
      "{'name': 'John', 'age': 25, 'gender': 'male'}\n",
      "John\n",
      "{'name': 'John', 'age': 30, 'gender': 'male'}\n",
      "{'name': 'John', 'age': 30, 'gender': 'male', 'occupation': 'developer'}\n",
      "{'name': 'John', 'age': 30, 'occupation': 'developer'}\n"
     ]
    }
   ],
   "source": [
    "# GPT \n",
    "# 딕셔너리 생성\n",
    "person = {'name': 'John', 'age': 25, 'gender': 'male'}\n",
    "\n",
    "# 딕셔너리 출력\n",
    "print(person) # {'name': 'John', 'age': 25, 'gender': 'male'}\n",
    "\n",
    "# 딕셔너리 요소에 접근\n",
    "print(person['name']) # 'John'\n",
    "\n",
    "# 딕셔너리 요소 변경\n",
    "person['age'] = 30\n",
    "print(person) # {'name': 'John', 'age': 30, 'gender': 'male'}\n",
    "\n",
    "# 딕셔너리 요소 추가\n",
    "person['occupation'] = 'developer'\n",
    "print(person) # {'name': 'John', 'age': 30, 'gender': 'male', 'occupation': 'developer'}\n",
    "\n",
    "# 딕셔너리 요소 삭제\n",
    "del person['gender']\n",
    "print(person) # {'name': 'John', 'age': 30, 'occupation': 'developer'}\n"
   ]
  },
  {
   "cell_type": "code",
   "execution_count": 1,
   "id": "8847a20a-2317-4974-9e27-f24acef2f201",
   "metadata": {
    "execution": {
     "iopub.execute_input": "2023-05-29T04:37:13.084473Z",
     "iopub.status.busy": "2023-05-29T04:37:13.083475Z",
     "iopub.status.idle": "2023-05-29T04:37:13.097473Z",
     "shell.execute_reply": "2023-05-29T04:37:13.096474Z",
     "shell.execute_reply.started": "2023-05-29T04:37:13.084473Z"
    },
    "tags": []
   },
   "outputs": [
    {
     "name": "stdout",
     "output_type": "stream",
     "text": [
      "dict_items([(10, 0), (20, 0)])\n",
      "0\n",
      "10\n",
      "0\n",
      "기본값\n",
      "값\n"
     ]
    }
   ],
   "source": [
    "# 없는 키값 조회하면 오류나는 것 처리하기\n",
    "import collections\n",
    "a = collections.defaultdict(int)\n",
    "b = {0:1}\n",
    "\n",
    "a[10]\n",
    "a[20]\n",
    "\n",
    "# defaultdict 는 없는 키 조회해도 기본값을 넣어줘서 키를 만들어 준다\n",
    "print(a.items())\n",
    "# b[1] # 기본 dict는 없는 키 조회하면 오류 뜸\n",
    "\n",
    "from collections import defaultdict\n",
    "\n",
    "# 정수형 기본값을 갖는 defaultdict 생성\n",
    "my_dict = defaultdict(int) # int 말고도 list, set 가능!\n",
    "\n",
    "# 값이 없는 키에 접근해보기\n",
    "print(my_dict['key1'])  # 기본값인 0 출력\n",
    "\n",
    "# 값을 할당하고 접근하기\n",
    "my_dict['key2'] = 10\n",
    "print(my_dict['key2'])  # 10 출력\n",
    "\n",
    "# 기본값이 적용되는 예시\n",
    "print(my_dict['key3'])  # 기본값인 0 출력\n",
    "\n",
    "# 사용자 정의 기본값을 갖는 defaultdict 생성 ***************** 이런식으로도 가능하구나!\n",
    "my_dict2 = defaultdict(lambda: '기본값')\n",
    "\n",
    "# 값이 없는 키에 접근해보기\n",
    "print(my_dict2['key4'])  # 기본값인 '기본값' 출력\n",
    "\n",
    "# 값을 할당하고 접근하기\n",
    "my_dict2['key5'] = '값'\n",
    "print(my_dict2['key5'])  # '값' 출력\n"
   ]
  },
  {
   "cell_type": "markdown",
   "id": "6b03371e-86b9-4444-b629-b0a173db0815",
   "metadata": {
    "jp-MarkdownHeadingCollapsed": true,
    "tags": []
   },
   "source": [
    "## map, zip, filter\n",
    "\n",
    "map : map(적용할 함수(람다가능), 적용받는 객체)\n",
    "\n",
    "zip : zip(묶을 객체1,묶을 객체2,묶을 객체3..) 묶을 객체 각 요소에 인덱스 0부터 묶어짐\n",
    "\n",
    "filter : filter(적용할 bool로 반환되는 함수(람다가능), 적용받는 객체)\n",
    "\n",
    "map과 filter 차이: map은 적용할 함수 리턴값을 내보내지만 filter은 적용할 함수 리턴값이 트루인 것만 내보낸다."
   ]
  },
  {
   "cell_type": "code",
   "execution_count": 23,
   "id": "cb2294d4-3658-49b3-adf6-ce34c9fab641",
   "metadata": {
    "execution": {
     "iopub.execute_input": "2023-05-11T00:08:52.356575Z",
     "iopub.status.busy": "2023-05-11T00:08:52.356575Z",
     "iopub.status.idle": "2023-05-11T00:08:52.362681Z",
     "shell.execute_reply": "2023-05-11T00:08:52.362681Z",
     "shell.execute_reply.started": "2023-05-11T00:08:52.356575Z"
    },
    "tags": []
   },
   "outputs": [
    {
     "name": "stdout",
     "output_type": "stream",
     "text": [
      "[1, 4, 9, 16, 25]\n",
      "HELLO WORLD\n",
      "{'Alice': 25, 'Bob': 21, 'Charlie': 22, 'David': 24}\n"
     ]
    }
   ],
   "source": [
    "# map 리스트, 문자열, 딕셔너리 예시\n",
    "\n",
    "# 리스트의 각 요소를 제곱한 새로운 리스트 생성하기\n",
    "numbers = [1, 2, 3, 4, 5]\n",
    "squared_numbers = list(map(lambda x: x ** 2, numbers))\n",
    "print(squared_numbers) # [1, 4, 9, 16, 25]\n",
    "\n",
    "# 문자열의 각 요소를 대문자로 변경한 새로운 문자열 생성하기\n",
    "string = \"hello world\"\n",
    "capitalized_string = ''.join(map(str.upper, string))\n",
    "print(capitalized_string) # \"HELLO WORLD\"\n",
    "\n",
    "# 딕셔너리의 각 값 요소를 2를 더한 새로운 딕셔너리 생성하기 ****** 요거 문제 풀면서 쓴적있음!\n",
    "students = {'Alice': 23, 'Bob': 19, 'Charlie': 20, 'David': 22}\n",
    "new_students = dict(map(lambda x: (x[0], x[1] + 2), students.items()))\n",
    "print(new_students)"
   ]
  },
  {
   "cell_type": "code",
   "execution_count": 34,
   "id": "5090301b-5046-4924-b42b-a7934000d92a",
   "metadata": {
    "execution": {
     "iopub.execute_input": "2023-05-11T00:25:04.191599Z",
     "iopub.status.busy": "2023-05-11T00:25:04.191599Z",
     "iopub.status.idle": "2023-05-11T00:25:04.198120Z",
     "shell.execute_reply": "2023-05-11T00:25:04.198120Z",
     "shell.execute_reply.started": "2023-05-11T00:25:04.191599Z"
    },
    "tags": []
   },
   "outputs": [
    {
     "name": "stdout",
     "output_type": "stream",
     "text": [
      "[[1, 4, 7], [2, 5, 8], [3, 6, 9]]\n",
      "12\n",
      "15\n",
      "18\n",
      "{'cat': 'meow', 'dog': 'woof', 'lion': 'roar'}\n",
      "0 cat\n",
      "1 dog\n",
      "2 lion\n"
     ]
    }
   ],
   "source": [
    "# zip 예시\n",
    "\n",
    "# 2차원리스트 행과열 뒤집기\n",
    "mylist = [[1,2,3], [4,5,6], [7,8,9]]\n",
    "new_list = list(map(list, zip(*mylist))) # *이건 2차원 리스트를 1차원 3개로 분리해주기 위한 코드\n",
    "print(new_list)\n",
    "\n",
    "# 사용 예 #1 - 여러 개의 Iterable 동시에 순회할 때 사용\n",
    "list1 = [1, 2, 3]\n",
    "list2 = [4, 5, 6]\n",
    "list3 = [7, 8, 9]\n",
    "answer = []\n",
    "for i, j, k in zip(list1, list2, list3):\n",
    "    print( i + j + k )\n",
    "      \n",
    "# 사용 예 #2 - Key 리스트와 Value 리스트로 딕셔너리 생성하기\n",
    "animals = ['cat', 'dog', 'lion'] # 키 역할\n",
    "sounds = ['meow', 'woof', 'roar'] # 값 역할\n",
    "answer = dict(zip(animals, sounds)) # {'cat': 'meow', 'dog': 'woof', 'lion': 'roar'}\n",
    "print(answer)\n",
    "\n",
    "# 사용 예 #3 - 리스트 넘버링 붙이기\n",
    "for i, j in zip(range(len(animals)), animals):\n",
    "    print(i,j)"
   ]
  },
  {
   "cell_type": "code",
   "execution_count": 40,
   "id": "05b7d5ef-b606-42c0-a739-f035b7f83294",
   "metadata": {
    "execution": {
     "iopub.execute_input": "2023-05-11T00:35:42.416192Z",
     "iopub.status.busy": "2023-05-11T00:35:42.415215Z",
     "iopub.status.idle": "2023-05-11T00:35:42.421628Z",
     "shell.execute_reply": "2023-05-11T00:35:42.421628Z",
     "shell.execute_reply.started": "2023-05-11T00:35:42.415215Z"
    },
    "tags": []
   },
   "outputs": [
    {
     "name": "stdout",
     "output_type": "stream",
     "text": [
      "[2, 4, 6, 8, 10]\n",
      "['apple', 'grape', 'pear', 'kiwi']\n",
      "{'banana': 3, 'peach': 7}\n",
      "{'apple': 5, 'peach': 7}\n"
     ]
    }
   ],
   "source": [
    "# filter 예시\n",
    "\n",
    "# 요소(int)가 2로 나눈 나머지가 0인것만 내보냄\n",
    "numbers = range(1, 11)\n",
    "even_numbers = list(filter(lambda x: x % 2 == 0, numbers))\n",
    "print(even_numbers)\n",
    "\n",
    "# 요소(문자열)에서 길이가 5이하인 것만 내보냄\n",
    "words = ['apple', 'banana', 'grape', 'pear', 'kiwi', 'orange']\n",
    "short_words = list(filter(lambda x: len(x) <= 5, words))\n",
    "print(short_words)\n",
    "\n",
    "\n",
    "# 요소(키값이 바나나 이거나, 값이 7인 경우만 내보냄)\n",
    "my_dict = {'apple': 5, 'banana': 3, 'orange': 2, 'peach': 7}\n",
    "result = dict(filter(lambda item: item[0] == 'banana' or item[1] == 7, my_dict.items()))\n",
    "print(result) # {'banana': 3, 'peach': 7}\n",
    "# 다른 예시\n",
    "result = dict(filter(lambda item: item[1] >= 4, my_dict.items()))\n",
    "print(result) # {'apple': 5, 'banana': 3, 'peach': 7}"
   ]
  },
  {
   "cell_type": "code",
   "execution_count": 38,
   "id": "88fac9b3-2ecc-4c94-a076-2cd85eb31cb7",
   "metadata": {
    "execution": {
     "iopub.execute_input": "2023-05-11T00:31:01.891701Z",
     "iopub.status.busy": "2023-05-11T00:31:01.890671Z",
     "iopub.status.idle": "2023-05-11T00:31:01.895611Z",
     "shell.execute_reply": "2023-05-11T00:31:01.895611Z",
     "shell.execute_reply.started": "2023-05-11T00:31:01.891701Z"
    },
    "tags": []
   },
   "outputs": [
    {
     "name": "stdout",
     "output_type": "stream",
     "text": [
      "[2, 4, 6, 8, 10]\n",
      "[False, True, False, True, False, True, False, True, False, True]\n"
     ]
    }
   ],
   "source": [
    "# map과 filter 차이\n",
    "numbers = range(1, 11)\n",
    "even_numbers = list(filter(lambda x: x % 2 == 0, numbers))\n",
    "print(even_numbers)\n",
    "\n",
    "numbers = range(1, 11)\n",
    "even_numbers = list(map(lambda x: x % 2 == 0, numbers))\n",
    "print(even_numbers)"
   ]
  },
  {
   "cell_type": "markdown",
   "id": "5ea211fc-53b9-4d42-83de-b56e05e800b6",
   "metadata": {
    "jp-MarkdownHeadingCollapsed": true,
    "tags": []
   },
   "source": [
    "## 순열, 조합, 중복순열\n",
    "\n",
    "순열(permutations) :  2가지를 뽑을때 ab,ba를 \"다른\" 경우의 수로 보는 것\n",
    "\n",
    "조합(combinations) :  2가지를 뽑을떄 ab,ba를 \"같은\" 경우의 수로 보는 것\n",
    "\n",
    "중복순열(product) :   자기 자신까지 포함한 것까지 \"다른\" 경우의 수로 보는 것\n",
    "\n",
    "중복 조합도 있다고 한다"
   ]
  },
  {
   "cell_type": "code",
   "execution_count": 2,
   "id": "073defc3-1914-432e-a2ac-8ae444c887ae",
   "metadata": {
    "execution": {
     "iopub.execute_input": "2023-08-04T02:20:50.067014Z",
     "iopub.status.busy": "2023-08-04T02:20:50.067014Z",
     "iopub.status.idle": "2023-08-04T02:20:50.073479Z",
     "shell.execute_reply": "2023-08-04T02:20:50.072479Z",
     "shell.execute_reply.started": "2023-08-04T02:20:50.067014Z"
    },
    "tags": []
   },
   "outputs": [
    {
     "name": "stdout",
     "output_type": "stream",
     "text": [
      "['ABC', 'ACB', 'BAC', 'BCA', 'CAB', 'CBA']\n",
      "['ABC', 'ACB', 'BAC', 'BCA', 'CAB', 'CBA']\n",
      "['AB', 'AC', 'BA', 'BC', 'CA', 'CB']\n",
      "['A', 'B', 'C']\n"
     ]
    }
   ],
   "source": [
    "import itertools\n",
    "\n",
    "pool = ['A', 'B', 'C']\n",
    "print(list(map(''.join, itertools.permutations(pool)))) # 생략 가능 \n",
    "print(list(map(''.join, itertools.permutations(pool, 3)))) # 3개의 원소로 순열 만들기\n",
    "print(list(map(''.join, itertools.permutations(pool, 2)))) # 2개의 원소로 순열 만들기\n",
    "print(list(map(''.join, itertools.permutations(pool, 1)))) # 1개의 원소로 순열 만들기"
   ]
  },
  {
   "cell_type": "code",
   "execution_count": 9,
   "id": "6931626d-eea7-44c5-8379-e61870cd1e6b",
   "metadata": {
    "execution": {
     "iopub.execute_input": "2023-06-19T02:04:10.441318Z",
     "iopub.status.busy": "2023-06-19T02:04:10.441318Z",
     "iopub.status.idle": "2023-06-19T02:04:10.446125Z",
     "shell.execute_reply": "2023-06-19T02:04:10.446125Z",
     "shell.execute_reply.started": "2023-06-19T02:04:10.441318Z"
    },
    "tags": []
   },
   "outputs": [
    {
     "name": "stdout",
     "output_type": "stream",
     "text": [
      "['ABC']\n",
      "['AB', 'AC', 'BC']\n",
      "['A', 'B', 'C']\n"
     ]
    }
   ],
   "source": [
    "import itertools\n",
    "\n",
    "pool = ['A', 'B', 'C']\n",
    "print(list(map(''.join, itertools.combinations(pool, 3)))) # 3개의 원소로 조합 만들기\n",
    "print(list(map(''.join, itertools.combinations(pool, 2)))) # 2개의 원소로 조합 만들기\n",
    "print(list(map(''.join, itertools.combinations(pool, 1)))) # 1개의 원소로 조합 만들기"
   ]
  },
  {
   "cell_type": "code",
   "execution_count": 19,
   "id": "e6fdf45a-c275-4967-a3c9-a79937deb443",
   "metadata": {
    "execution": {
     "iopub.execute_input": "2023-06-19T02:39:01.424394Z",
     "iopub.status.busy": "2023-06-19T02:39:01.423394Z",
     "iopub.status.idle": "2023-06-19T02:39:01.429375Z",
     "shell.execute_reply": "2023-06-19T02:39:01.429375Z",
     "shell.execute_reply.started": "2023-06-19T02:39:01.424394Z"
    },
    "tags": []
   },
   "outputs": [
    {
     "name": "stdout",
     "output_type": "stream",
     "text": [
      "['AA', 'AB', 'AC', 'BA', 'BB', 'BC', 'CA', 'CB', 'CC']\n",
      "['A', 'B', 'C']\n",
      "['A', 'B', 'C']\n",
      "['ABC']\n",
      "['ABCABC']\n"
     ]
    }
   ],
   "source": [
    "import itertools\n",
    "pool = ['A', 'B', 'C']\n",
    "\n",
    "#repeat=2은 pool을 2개만들어서 계산한다는 의미\n",
    "print(list(map(''.join,itertools.product(pool,repeat=2)))) \n",
    "print(list(map(''.join,itertools.product(pool,repeat=1)))) \n",
    "print(list(map(''.join,itertools.product(pool)))) # repeat 생략 가능\n",
    "print(list(map(''.join,itertools.product(*pool))))\n",
    "print(list(map(''.join,itertools.product(*pool,repeat=2)))) "
   ]
  },
  {
   "cell_type": "markdown",
   "id": "a3716899-a140-4da7-8b34-251a44fa0a22",
   "metadata": {
    "jp-MarkdownHeadingCollapsed": true,
    "tags": []
   },
   "source": [
    "## 소수, 소인수분해, 최대공약수, 기울기 알고리즘\n",
    "\n",
    "소수 : 1과 자신으로만 나누어지는 수\n",
    "\n",
    "소인수분해 : 소수로만 나누는 방법\n",
    "\n",
    "최대 공약수 : 두수를 나머지 없이 나눌수있는 가장 큰수"
   ]
  },
  {
   "cell_type": "code",
   "execution_count": 7,
   "id": "7a1988fc-6975-4605-937b-a63597817b74",
   "metadata": {
    "execution": {
     "iopub.execute_input": "2023-06-11T09:01:42.924790Z",
     "iopub.status.busy": "2023-06-11T09:01:42.923792Z",
     "iopub.status.idle": "2023-06-11T09:01:42.933726Z",
     "shell.execute_reply": "2023-06-11T09:01:42.932742Z",
     "shell.execute_reply.started": "2023-06-11T09:01:42.924790Z"
    },
    "tags": []
   },
   "outputs": [
    {
     "name": "stdout",
     "output_type": "stream",
     "text": [
      "48 이하 소수 리스트 [2, 3, 5, 7, 11, 13, 17, 19, 23, 29, 31, 37, 41, 43, 47]\n",
      "소인수분해 결과 [2, 2, 2, 2, 3]\n",
      "효율적인 소인수분해 결과 [2, 2, 2, 2, 3]\n",
      "간단한 방법 소인수분해 결과 [2, 2, 2, 2, 3]\n"
     ]
    }
   ],
   "source": [
    "import math\n",
    "\n",
    "n=48\n",
    "# 소수 판별\n",
    "def isPrime(num):\n",
    "    for i in range(2, math.floor(math.sqrt(num))+1):\n",
    "        if num % i == 0 :\n",
    "            return False\n",
    "    return True\n",
    "\n",
    "# 소수 찾기\n",
    "def findPrimes(n):\n",
    "    primes = []\n",
    "    for i in range(2, n+1):  # for i in range(2, (n//2)+1) 로 개선 가능\n",
    "        if isPrime(i):\n",
    "            primes.append(i)\n",
    "    return primes\n",
    "\n",
    "print(f'{n} 이하 소수 리스트', findPrimes(n))\n",
    "\n",
    "# 소인수 분해 1\n",
    "def factorize(n):\n",
    "    factors = []\n",
    "    primes = findPrimes(n)  # n의 소수 리스트를 추출\n",
    "    for i in primes:\n",
    "        while (n % i == 0):  # 소수 중 나누어 떨어지는(약수) 수를 찾는다\n",
    "            factors.append(i)\n",
    "            n = n // i\n",
    "    return factors\n",
    "\n",
    "print('소인수분해 결과', factorize(n))\n",
    "\n",
    "# 에라토스테네스를 활용한 소인수 분해\n",
    "def factorize2(n):\n",
    "    factor = 2 #시작 소수 지정\n",
    "    factors = []\n",
    "    while (factor**2 <= n):  # 에라토스테네스를 떠올리며,, 즉 루트n까지 실행\n",
    "        while (n % factor == 0):  # 소수로 나누어 떨어지면(= 즉 약수면)\n",
    "            factors.append(factor)  # 리스트에 추가\n",
    "            n = n // factor  # n을 몫으로 변경\n",
    "        factor += 1\n",
    "    if n > 1 : # 1보다 크고 factor**2(4)보다 작은 경우 n은 소수임으로 append -> 2,3 경우\n",
    "        factors.append(n)\n",
    "    return factors\n",
    "print('효율적인 소인수분해 결과', factorize2(n))\n",
    "\n",
    "# 프로그래머스 다르나람이 푼거 가독성 좋아보이고 간단하게 구현해서 적어둠\n",
    "def factorize3(n):\n",
    "    prime_factor = []\n",
    "\n",
    "    i = 2\n",
    "    while i<=n:\n",
    "        if n %i==0:\n",
    "            prime_factor.append(i)\n",
    "            n = n//i\n",
    "        else:\n",
    "            i+=1\n",
    "\n",
    "    return prime_factor\n",
    "print('간단한 방법 소인수분해 결과', factorize2(n))\n",
    "\n"
   ]
  },
  {
   "cell_type": "code",
   "execution_count": 69,
   "id": "67a4b6c9-b3fb-4a6e-9896-18f335eaf3ed",
   "metadata": {
    "execution": {
     "iopub.execute_input": "2023-05-11T01:04:11.330698Z",
     "iopub.status.busy": "2023-05-11T01:04:11.330698Z",
     "iopub.status.idle": "2023-05-11T01:04:11.336569Z",
     "shell.execute_reply": "2023-05-11T01:04:11.336569Z",
     "shell.execute_reply.started": "2023-05-11T01:04:11.330698Z"
    },
    "tags": []
   },
   "outputs": [
    {
     "name": "stdout",
     "output_type": "stream",
     "text": [
      "5\n"
     ]
    },
    {
     "data": {
      "text/plain": [
       "5"
      ]
     },
     "execution_count": 69,
     "metadata": {},
     "output_type": "execute_result"
    }
   ],
   "source": [
    "# 최대 공약수\n",
    "def gcd(a, b):\n",
    "    while b:\n",
    "        a, b = b, a % b\n",
    "    return a\n",
    "print(gcd(25,20))\n",
    "\n",
    "# math 모듈 사용!\n",
    "import math\n",
    "math.gcd(25,20)"
   ]
  },
  {
   "cell_type": "code",
   "execution_count": 70,
   "id": "48686e27-855c-4b48-b556-708c4bb8e902",
   "metadata": {
    "execution": {
     "iopub.execute_input": "2023-05-11T01:04:56.334202Z",
     "iopub.status.busy": "2023-05-11T01:04:56.334202Z",
     "iopub.status.idle": "2023-05-11T01:04:56.339747Z",
     "shell.execute_reply": "2023-05-11T01:04:56.339747Z",
     "shell.execute_reply.started": "2023-05-11T01:04:56.334202Z"
    },
    "tags": []
   },
   "outputs": [
    {
     "data": {
      "text/plain": [
       "1.0"
      ]
     },
     "execution_count": 70,
     "metadata": {},
     "output_type": "execute_result"
    }
   ],
   "source": [
    "# 기울기 구하기\n",
    "def slope(a,b):\n",
    "    return (b[1] - a[1]) / (b[0] - a[0])\n",
    "slope([1,1],[2,2]) "
   ]
  },
  {
   "cell_type": "markdown",
   "id": "eca8ceab-817d-407b-96e3-9281ce33ca3e",
   "metadata": {
    "jp-MarkdownHeadingCollapsed": true,
    "tags": []
   },
   "source": [
    "## 기타\n",
    "\n",
    "나머지 구하기\n",
    "\n",
    "n진법->10진법 표기, 두 변수의 값 바꾸기, 가장 큰수 inf, 실수정수 판별\n",
    "\n",
    "가변 함수(리스트,딕셔너리)\n",
    "\n",
    "코끼리 연산자(활용하기 어려워보임..) 할당과 반환을 동시에 하는 연산자. if문에서 주로 쓰임\n",
    "\n",
    "예외처리\n",
    "\n",
    "중첩 함수\n",
    "\n",
    "객체 복사"
   ]
  },
  {
   "cell_type": "code",
   "execution_count": 44,
   "id": "6462a3da-7262-4e2d-bd72-3d9fea8a09af",
   "metadata": {
    "execution": {
     "iopub.execute_input": "2023-05-11T00:40:49.491451Z",
     "iopub.status.busy": "2023-05-11T00:40:49.491451Z",
     "iopub.status.idle": "2023-05-11T00:40:49.495923Z",
     "shell.execute_reply": "2023-05-11T00:40:49.495923Z",
     "shell.execute_reply.started": "2023-05-11T00:40:49.491451Z"
    },
    "tags": []
   },
   "outputs": [
    {
     "name": "stdout",
     "output_type": "stream",
     "text": [
      "1 2\n",
      "1 2\n"
     ]
    }
   ],
   "source": [
    "# 나머지 구하기\n",
    "\n",
    "# 방법 1 //,%로 구하기\n",
    "a = 7\n",
    "b = 5\n",
    "print(a//b, a%b)\n",
    "\n",
    "# 파이썬의 divmod 이용하기. 단 작은 숫자를 다룰땐 //,% 보다 느림\n",
    "a = 7\n",
    "b = 5\n",
    "print(*divmod(a, b))"
   ]
  },
  {
   "cell_type": "code",
   "execution_count": 59,
   "id": "55e903bc-9551-4990-b2b9-a37237948eb9",
   "metadata": {
    "execution": {
     "iopub.execute_input": "2023-05-11T01:00:51.053998Z",
     "iopub.status.busy": "2023-05-11T01:00:51.053998Z",
     "iopub.status.idle": "2023-05-11T01:00:51.059728Z",
     "shell.execute_reply": "2023-05-11T01:00:51.059728Z",
     "shell.execute_reply.started": "2023-05-11T01:00:51.053998Z"
    },
    "tags": []
   },
   "outputs": [
    {
     "name": "stdout",
     "output_type": "stream",
     "text": [
      "10\n",
      "abc 3\n",
      "True\n",
      "True\n",
      "True\n",
      "False\n"
     ]
    }
   ],
   "source": [
    "# n진법 -> 10진법\n",
    "num = '1010' # 2진법으로 표현된 수\n",
    "base = 2 # 2진법\n",
    "print(int(num, base)) # 모든 수를 10진법으로 만들어줌\n",
    "\n",
    "# 두 변수의 값 바꾸기\n",
    "a = 3\n",
    "b = 'abc'\n",
    "a, b = b, a\n",
    "print(a, b)\n",
    "\n",
    "# 가장 큰수 inf\n",
    "min_val = float('inf') #양의 무한대\n",
    "print(min_val > 10000000000)\n",
    "min_val = float('-inf') # 음의 무한대\n",
    "print(min_val < -10000000000)\n",
    "\n",
    "# 실수 정수 판별\n",
    "n=144\n",
    "print((n ** 0.5).is_integer()) #n**0.5 12출력\n",
    "n=143\n",
    "print((n ** 0.5).is_integer()) #n**0.5 11.xxxx 출력 정수 아님=> false"
   ]
  },
  {
   "cell_type": "code",
   "execution_count": 58,
   "id": "b1594e27-b1a1-4784-a885-4f143b1b65cf",
   "metadata": {
    "execution": {
     "iopub.execute_input": "2023-05-11T00:58:11.931397Z",
     "iopub.status.busy": "2023-05-11T00:58:11.930398Z",
     "iopub.status.idle": "2023-05-11T00:58:11.936097Z",
     "shell.execute_reply": "2023-05-11T00:58:11.936097Z",
     "shell.execute_reply.started": "2023-05-11T00:58:11.931397Z"
    },
    "tags": []
   },
   "outputs": [
    {
     "name": "stdout",
     "output_type": "stream",
     "text": [
      "15\n",
      "55\n",
      "15\n"
     ]
    }
   ],
   "source": [
    "# 파이썬에서는 가변인자를 받을 때 *을 붙여서 받습니다.\n",
    "# 다음과 같이 입력받는 숫자의 개수와 상관없이 합을 구할 수 있는 함수를 만들 수 있습니다.\n",
    "def sum_all(*args):\n",
    "    result = 0\n",
    "    for i in args:\n",
    "        result += i\n",
    "    return result\n",
    "\n",
    "print(sum_all(1, 2, 3, 4, 5))\n",
    "print(sum_all(1, 2, 3, 4, 5, 6, 7, 8, 9, 10))\n",
    "\n",
    "#리스트,튜플,딕셔너리 변수 등을 전달할 때는 앞에 *를 추가. 단, 딕셔너리는 키만 전달됨. \n",
    "sumList = [1, 2, 3, 4, 5]\n",
    "print(sum_all(*sumList))"
   ]
  },
  {
   "cell_type": "code",
   "execution_count": 57,
   "id": "eb2466bc-8a7c-4701-9f2a-9ab95c3f7a02",
   "metadata": {
    "execution": {
     "iopub.execute_input": "2023-05-11T00:58:08.083431Z",
     "iopub.status.busy": "2023-05-11T00:58:08.083431Z",
     "iopub.status.idle": "2023-05-11T00:58:08.090431Z",
     "shell.execute_reply": "2023-05-11T00:58:08.089432Z",
     "shell.execute_reply.started": "2023-05-11T00:58:08.083431Z"
    },
    "tags": []
   },
   "outputs": [
    {
     "name": "stdout",
     "output_type": "stream",
     "text": [
      "{'user': 'psychoria', 'index': '5', 'page': '10'}\n",
      "http://192.168.1.120/index.php?user=psychoria&index=5&page=10\n",
      "{'user': 'psychoria', 'index': '5', 'page': '10'}\n",
      "http://192.168.1.120/index.php?user=psychoria&index=5&page=10\n"
     ]
    }
   ],
   "source": [
    "# 각 인자의 이름과 함께 전달하는 방법도 존재합니다.\n",
    "# 함수에서는 딕셔너리 형태로 전달을 받아서 사용할 수 있습니다.\n",
    "def makeURL(**kwlist):\n",
    "    myUrl = \"http://192.168.1.120/index.php?\"\n",
    "    \n",
    "    for k, v in kwlist.items():\n",
    "        myUrl += k + '=' + v + '&'\n",
    "\n",
    "    myUrl = myUrl.rstrip('&')\n",
    "    print(kwlist)\n",
    "    print(myUrl)\n",
    "\n",
    "makeURL(user = 'psychoria', index = '5', page = '10')    \n",
    "# 딕셔너리 변수 형태로 전달할 때는 **을 반드시 추가해야 된다는 점\n",
    "urlList = {'user':'psychoria', 'index':'5', 'page':'10'}\n",
    "makeURL(**urlList)"
   ]
  },
  {
   "cell_type": "code",
   "execution_count": 72,
   "id": "9e9fba91-857b-461b-9297-089068cd434b",
   "metadata": {
    "execution": {
     "iopub.execute_input": "2023-05-11T01:07:04.135736Z",
     "iopub.status.busy": "2023-05-11T01:07:04.134769Z",
     "iopub.status.idle": "2023-05-11T01:07:04.140780Z",
     "shell.execute_reply": "2023-05-11T01:07:04.140780Z",
     "shell.execute_reply.started": "2023-05-11T01:07:04.135736Z"
    },
    "tags": []
   },
   "outputs": [
    {
     "name": "stdout",
     "output_type": "stream",
     "text": [
      "walrus eat kimchi\n",
      "True\n",
      "walrus eat kimchi\n",
      "True\n"
     ]
    }
   ],
   "source": [
    "# 코끼리 연산자 예시\n",
    "\n",
    "s='walrus eat kimchi' ## s에 문자열을 할당\n",
    "result = 'walrus' in s ## 'walrus' in s를 result에 할당\n",
    "if result: ## result가 True라면\n",
    "    print(s) ## s 출력\n",
    "    print(result) ## result 출력\n",
    "    \n",
    "# 위 코드랑 같은 결과지만 변수를 미리 선언 할 필요없다\n",
    "if result := 'walrus' in (s := 'walrus eat kimchi'):\n",
    "    print(s)  ## s 출력\n",
    "    print(result) ## result 출력\n",
    "    \n",
    "# https://school.programmers.co.kr/learn/courses/30/lessons/120883/solution_groups?language=python3\n",
    "# 위 문제에서 다른사람이 푼 예시 \n",
    "def solution(id_pw, db):\n",
    "    if db_pw := dict(db).get(id_pw[0]):\n",
    "        return \"login\" if db_pw == id_pw[1] else \"wrong pw\"\n",
    "    return \"fail\""
   ]
  },
  {
   "cell_type": "code",
   "execution_count": 12,
   "id": "521aeb69-792f-4feb-b73d-1a8cc34d38e6",
   "metadata": {
    "execution": {
     "iopub.execute_input": "2023-05-26T02:27:13.212355Z",
     "iopub.status.busy": "2023-05-26T02:27:13.211355Z",
     "iopub.status.idle": "2023-05-26T02:27:13.216354Z",
     "shell.execute_reply": "2023-05-26T02:27:13.216354Z",
     "shell.execute_reply.started": "2023-05-26T02:27:13.212355Z"
    },
    "tags": []
   },
   "outputs": [
    {
     "name": "stdout",
     "output_type": "stream",
     "text": [
      "0으로 나눌 수 없습니다.\n",
      "예외 처리가 완료되었습니다.\n"
     ]
    }
   ],
   "source": [
    "# 예외처리 \n",
    "try:\n",
    "    # 예외가 발생할 수 있는 코드\n",
    "    result = 10 / 0\n",
    "except ZeroDivisionError:\n",
    "    # ZeroDivisionError 예외 처리\n",
    "    print(\"0으로 나눌 수 없습니다.\")\n",
    "except Exception as e:\n",
    "    # 모든 예외를 처리하는 범용적인 except 블록\n",
    "    print(\"예외가 발생했습니다:\", str(e))\n",
    "finally:\n",
    "    # 예외 발생 여부와 상관없이 항상 실행되는 코드\n",
    "    print(\"예외 처리가 완료되었습니다.\")\n"
   ]
  },
  {
   "cell_type": "code",
   "execution_count": 8,
   "id": "b5514486-8927-4f0c-9d55-6efe14afcce8",
   "metadata": {
    "execution": {
     "iopub.execute_input": "2023-06-16T05:41:30.911743Z",
     "iopub.status.busy": "2023-06-16T05:41:30.910743Z",
     "iopub.status.idle": "2023-06-16T05:41:30.916316Z",
     "shell.execute_reply": "2023-06-16T05:41:30.916316Z",
     "shell.execute_reply.started": "2023-06-16T05:41:30.911743Z"
    },
    "tags": []
   },
   "outputs": [
    {
     "name": "stdout",
     "output_type": "stream",
     "text": [
      "[1, 2] 로컬 별수로 바뀌여서 원본그대로 출력\n",
      "[-1, 2] 배열 일부분을 바꾼건 수정됌\n"
     ]
    }
   ],
   "source": [
    "# 중첩 함수\n",
    "def permute(list_com):\n",
    "        # 내부 함수\n",
    "        def DFS1():\n",
    "            # 재할당이 일어나서 list_com이 DFS의 로컬 변수로 바뀜\n",
    "            list_com = [3,4]\n",
    "            \n",
    "        \n",
    "        def DFS2():\n",
    "            # 배열 요소를 바꾸는건(일부분) 로컬별수로 바뀌지 않음! \n",
    "            list_com[0]=-1\n",
    "            \n",
    "        DFS1()\n",
    "        print(list_com,\"로컬 별수로 바뀌여서 원본그대로 출력\")\n",
    "        DFS2()\n",
    "        print(list_com,\"배열 일부분을 바꾼건 수정됌\")\n",
    "        return \n",
    "list_com = [1,2]\n",
    "permute(list_com)"
   ]
  },
  {
   "cell_type": "code",
   "execution_count": 20,
   "id": "0566af34-9e42-46e2-a0f5-284c8f5f558e",
   "metadata": {
    "execution": {
     "iopub.execute_input": "2023-06-16T07:32:29.934566Z",
     "iopub.status.busy": "2023-06-16T07:32:29.934566Z",
     "iopub.status.idle": "2023-06-16T07:32:29.939055Z",
     "shell.execute_reply": "2023-06-16T07:32:29.939055Z",
     "shell.execute_reply.started": "2023-06-16T07:32:29.934566Z"
    },
    "tags": []
   },
   "outputs": [
    {
     "name": "stdout",
     "output_type": "stream",
     "text": [
      "[1, [2]]\n",
      "[1, [2]]\n"
     ]
    }
   ],
   "source": [
    "# 객체 복사\n",
    "a = [1]\n",
    "b = [2]\n",
    "\n",
    "# a.append(b)\n",
    "# print(a)\n",
    "# b.append(2) # b 리스트에 값을 추가 했는데 a의 리스트 변한다\n",
    "\n",
    "a.append(b[:]) \n",
    "print(a)\n",
    "b.append(2) # 위처럼 복사를 하면 a 리스트는 변하지 않는다\n",
    "\n",
    "print(a)\n",
    "\n",
    "# 단 이중 이상 리스트 경우를 통째로 복사하는 경우에는 deepcopy를 이용해야 완전히 새로운 리스트로 복사된다."
   ]
  },
  {
   "cell_type": "markdown",
   "id": "baf5cfc7-e5fe-4c8a-acc3-3204af0820b6",
   "metadata": {
    "jp-MarkdownHeadingCollapsed": true,
    "tags": []
   },
   "source": [
    "## 겹치는 선분 길이 문제 푸는 방법\n",
    "\n",
    "set 조합으로 푼다.\n",
    "\n",
    "여기까진 생각했는데..  겹겨야한다는 것 만 보느라 개수를 샐 생각을 못함\n",
    "\n",
    "그리고 0에서 5까지 선을 그어야 한다고 생각해서 0 1 2 3 4 5 까지 선을 그었다고 보고 계산했는데\n",
    "\n",
    "이러면 안되고 0에서 5까지면 range(0,5)출력값 처럼 0 1 2 3 4 로 생각해야함\n",
    "\n"
   ]
  },
  {
   "cell_type": "code",
   "execution_count": 78,
   "id": "bdf32671-9ae3-4272-a12d-2da8bdec05fb",
   "metadata": {
    "execution": {
     "iopub.execute_input": "2023-05-11T01:13:46.175919Z",
     "iopub.status.busy": "2023-05-11T01:13:46.174920Z",
     "iopub.status.idle": "2023-05-11T01:13:46.181446Z",
     "shell.execute_reply": "2023-05-11T01:13:46.181446Z",
     "shell.execute_reply.started": "2023-05-11T01:13:46.175919Z"
    },
    "tags": []
   },
   "outputs": [
    {
     "data": {
      "text/plain": [
       "2"
      ]
     },
     "execution_count": 78,
     "metadata": {},
     "output_type": "execute_result"
    }
   ],
   "source": [
    "# 겹치는 선분 길이 팁\n",
    "def solution(lines):\n",
    "    sets = [set(range(min(l), max(l))) for l in lines]\n",
    "    return len(sets[0] & sets[1] | sets[0] & sets[2] | sets[1] & sets[2])\n",
    "\n",
    "lines = [[0,3],[2,5],[4,6]]\n",
    "solution(lines) # 2~3 4~5 두줄 겹친다"
   ]
  },
  {
   "cell_type": "markdown",
   "id": "21984d11-c35a-4035-9afc-a7135f17d7b1",
   "metadata": {
    "tags": []
   },
   "source": [
    "# 알고리즘"
   ]
  },
  {
   "cell_type": "markdown",
   "id": "5e4634dc-4bee-4fdd-ba50-44d4e6ec0ea8",
   "metadata": {
    "jp-MarkdownHeadingCollapsed": true,
    "tags": []
   },
   "source": [
    "### 카데인 알고리즘\n",
    "\n",
    "카데인 알고리즘은 동적 계획법(Dynamic Programming)의 개념을 활용하여 구현됩니다. 배열의 각 요소마다, 이전까지의 최대 연속 부분합과 현재 요소를 포함한 부분합 중 더 큰 값을 선택하여 계속 업데이트해나갑니다. 이렇게 하면 마지막 요소까지 계산한 후에는 전체 배열에서의 최대 연속 부분합을 찾을 수 있습니다.\n",
    "\n",
    "이 알고리즘은 입력 배열을 한 번만 순회하기 때문에 시간 복잡도는 O(n)입니다.\n"
   ]
  },
  {
   "cell_type": "code",
   "execution_count": null,
   "id": "706c93bc-31c5-4a7d-b6fd-0a6c77f7c130",
   "metadata": {},
   "outputs": [],
   "source": [
    "# 카데인 알고리즘 예시\n",
    "def max_subarray_sum(arr):\n",
    "    max_ending_here = max_so_far = arr[0]  # 현재까지의 최대 부분합, 전체에서의 최대 부분합\n",
    "    for num in arr[1:]:\n",
    "        max_ending_here = max(num, max_ending_here + num)  # 현재까지의 최대 부분합 갱신\n",
    "        max_so_far = max(max_so_far, max_ending_here)  # 전체에서의 최대 부분합 갱신\n",
    "    return max_so_far\n",
    "\n",
    "arr = [-1,16,5,-6,10,-6,4]\n",
    "max_subarray_sum(arr)"
   ]
  },
  {
   "cell_type": "markdown",
   "id": "cc927acb-a2ef-4ab1-8b49-5ac1d97b7072",
   "metadata": {
    "jp-MarkdownHeadingCollapsed": true,
    "tags": []
   },
   "source": [
    "## 투 포인터\n",
    "\n",
    "투 포인터(Two-pointer) 알고리즘은 배열이나 리스트에서 두 개의 포인터를 이용하여 원하는 결과를 얻는 알고리즘입니다. \n",
    "\n",
    "투 포인터 왼쪽 끝(0번 인덱스)와 오른쪽 끝(마지막 인덱스)를 이동하면서 원하는 값을 얻는다."
   ]
  },
  {
   "cell_type": "code",
   "execution_count": 7,
   "id": "37dfbae8-fca7-461a-ba73-9d29431a66df",
   "metadata": {
    "execution": {
     "iopub.execute_input": "2023-05-26T02:01:43.609939Z",
     "iopub.status.busy": "2023-05-26T02:01:43.609939Z",
     "iopub.status.idle": "2023-05-26T02:01:43.616347Z",
     "shell.execute_reply": "2023-05-26T02:01:43.616347Z",
     "shell.execute_reply.started": "2023-05-26T02:01:43.609939Z"
    },
    "tags": []
   },
   "outputs": [
    {
     "data": {
      "text/plain": [
       "4"
      ]
     },
     "execution_count": 7,
     "metadata": {},
     "output_type": "execute_result"
    }
   ],
   "source": [
    "# 이진 검색\n",
    "def search(nums, target):\n",
    "\n",
    "    left,right = 0, len(nums)-1\n",
    "    while left <= right:\n",
    "        mid  = (left+right)//2\n",
    "\n",
    "        if nums[mid] < target:\n",
    "            left = mid + 1\n",
    "        elif nums[mid] > target:\n",
    "            right = mid - 1\n",
    "        else:\n",
    "            return mid    \n",
    "    return -1\n",
    "\n",
    "nums = [-1,0,3,5,9,12]\n",
    "target = 9\n",
    "\n",
    "search(nums,target) "
   ]
  },
  {
   "cell_type": "code",
   "execution_count": 9,
   "id": "f6f898af-6c9c-4f9e-ba2e-6f3a1f4f4105",
   "metadata": {
    "execution": {
     "iopub.execute_input": "2023-05-26T02:06:00.185800Z",
     "iopub.status.busy": "2023-05-26T02:06:00.184801Z",
     "iopub.status.idle": "2023-05-26T02:06:00.192801Z",
     "shell.execute_reply": "2023-05-26T02:06:00.191829Z",
     "shell.execute_reply.started": "2023-05-26T02:06:00.185800Z"
    },
    "tags": []
   },
   "outputs": [
    {
     "name": "stdout",
     "output_type": "stream",
     "text": [
      "두 요소의 인덱스: [2, 5]\n"
     ]
    }
   ],
   "source": [
    "def twoSum(nums, target):\n",
    "    left = 0\n",
    "    right = len(nums) - 1\n",
    "\n",
    "    while left < right:\n",
    "        current_sum = nums[left] + nums[right]\n",
    "\n",
    "        if current_sum == target:\n",
    "            return [left+1, right+1]\n",
    "        elif current_sum < target:\n",
    "            left += 1\n",
    "        else:\n",
    "            right -= 1\n",
    "\n",
    "    return None\n",
    "\n",
    "# 테스트\n",
    "nums = [2, 4, 6, 8, 10]\n",
    "target = 14\n",
    "result = twoSum(nums, target)\n",
    "if result:\n",
    "    print(\"두 요소의 인덱스:\", result)\n",
    "else:\n",
    "    print(\"해당하는 조합이 없습니다.\")\n"
   ]
  }
 ],
 "metadata": {
  "kernelspec": {
   "display_name": "Python 3 (ipykernel)",
   "language": "python",
   "name": "python3"
  },
  "language_info": {
   "codemirror_mode": {
    "name": "ipython",
    "version": 3
   },
   "file_extension": ".py",
   "mimetype": "text/x-python",
   "name": "python",
   "nbconvert_exporter": "python",
   "pygments_lexer": "ipython3",
   "version": "3.11.3"
  }
 },
 "nbformat": 4,
 "nbformat_minor": 5
}
