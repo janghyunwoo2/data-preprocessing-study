{
 "cells": [
  {
   "cell_type": "markdown",
   "id": "e8135eb1-6ec8-42e2-b2c3-f3f954266f0b",
   "metadata": {},
   "source": [
    "## 파알인 코테 문제 풀기\n",
    "\n",
    "https://github.com/onlybooks/algorithm-interview"
   ]
  },
  {
   "cell_type": "markdown",
   "id": "7f03dafd-9121-442f-8d88-6a20526c69ee",
   "metadata": {},
   "source": [
    "## 6장 문자열"
   ]
  },
  {
   "cell_type": "code",
   "execution_count": 13,
   "id": "2e6e4fd4-d3b1-4ba1-91b0-ca1a8dccfe31",
   "metadata": {
    "execution": {
     "iopub.execute_input": "2023-05-15T09:50:24.397168Z",
     "iopub.status.busy": "2023-05-15T09:50:24.396134Z",
     "iopub.status.idle": "2023-05-15T09:50:24.403623Z",
     "shell.execute_reply": "2023-05-15T09:50:24.403623Z",
     "shell.execute_reply.started": "2023-05-15T09:50:24.397168Z"
    },
    "tags": []
   },
   "outputs": [
    {
     "data": {
      "text/plain": [
       "False"
      ]
     },
     "execution_count": 13,
     "metadata": {},
     "output_type": "execute_result"
    }
   ],
   "source": [
    "# https://leetcode.com/problems/valid-palindrome/\n",
    "# 6장 01) 유효한 팰린드롬 (easy)\n",
    "class Solution:\n",
    "    def isPalindrome(self, s: str) -> bool:\n",
    "        s = ''.join([i.lower() for i in s if i.isalnum()])\n",
    "        s_v = s[::-1]\n",
    "        \n",
    "        if s == s_v:     \n",
    "            return True\n",
    "        else:\n",
    "            return False\n",
    "\n",
    "    \n",
    "    \n",
    "s = \"A man, a plan, a canal: Panama\"\n",
    "s = \"race a car\"\n",
    "a = Solution()\n",
    "a.isPalindrome(s)"
   ]
  },
  {
   "cell_type": "code",
   "execution_count": 2,
   "id": "dd57874f-6ed9-4c77-aeaf-2abd53feb292",
   "metadata": {
    "execution": {
     "iopub.execute_input": "2023-05-17T00:51:44.752073Z",
     "iopub.status.busy": "2023-05-17T00:51:44.752073Z",
     "iopub.status.idle": "2023-05-17T00:51:44.760709Z",
     "shell.execute_reply": "2023-05-17T00:51:44.760709Z",
     "shell.execute_reply.started": "2023-05-17T00:51:44.752073Z"
    },
    "tags": []
   },
   "outputs": [
    {
     "data": {
      "text/plain": [
       "['o', 'l', 'l', 'e', 'h']"
      ]
     },
     "execution_count": 2,
     "metadata": {},
     "output_type": "execute_result"
    }
   ],
   "source": [
    "# https://leetcode.com/problems/reverse-string/\n",
    "# 6장 02) 문자열 뒤집기 (easy)\n",
    "from typing import List\n",
    "class Solution:\n",
    "    def reverseString(self, s: List[str]) -> None:\n",
    "        # 방법 1\n",
    "        #s.reverse()\n",
    "        \n",
    "        # 방법 2\n",
    "        s[:] = s[::-1] # 그냥 s도 되어야 하는데 리트코드에서 공간제약으로 오류떠서 해준 방법\n",
    "        return s\n",
    "\n",
    "s = [\"h\",\"e\",\"l\",\"l\",\"o\"]\n",
    "a = Solution()\n",
    "a.reverseString(s)"
   ]
  },
  {
   "cell_type": "code",
   "execution_count": 87,
   "id": "0e8157cf-da24-419d-ab02-3b82f0763801",
   "metadata": {
    "execution": {
     "iopub.execute_input": "2023-05-16T01:12:56.040286Z",
     "iopub.status.busy": "2023-05-16T01:12:56.039284Z",
     "iopub.status.idle": "2023-05-16T01:12:56.047205Z",
     "shell.execute_reply": "2023-05-16T01:12:56.047205Z",
     "shell.execute_reply.started": "2023-05-16T01:12:56.040286Z"
    },
    "tags": []
   },
   "outputs": [
    {
     "data": {
      "text/plain": [
       "['a2 act car',\n",
       " 'g1 act car',\n",
       " 'a8 act zoo',\n",
       " 'ab1 off key dog',\n",
       " 'a1 9 2 3 1',\n",
       " 'zo4 4 7']"
      ]
     },
     "execution_count": 87,
     "metadata": {},
     "output_type": "execute_result"
    }
   ],
   "source": [
    "# 중요! 실무에 많이 쓰인다고 함\n",
    "# https://leetcode.com/problems/reorder-data-in-log-files/\n",
    "# 6장 03) 로그 파일 재정렬 (Medium)\n",
    "# 책 안보고 책 이랑 비슷하지만 더 간결하게 품!\n",
    "class Solution:\n",
    "    def reorderLogFiles(self, logs: List[str]) -> List[str]:\n",
    "    \n",
    "        s = sorted([s for s in logs if s.split(' ')[1].isalpha()],key=lambda x: (x.split(' ')[1:],x.split(' ')[0]))\n",
    "        n = [n for n in logs if n.split(' ')[1].isdigit()]\n",
    "        \n",
    "        return s+n\n",
    "    \n",
    "# logs = [\"dig1 8 1 5 1\",\"let1 art can\",\"dig2 3 6\",\"let2 own kit dig\",\"let3 art zero\"]\n",
    "# logs = [\"a1 9 2 3 1\",\"g1 act car\",\"zo4 4 7\",\"ab1 off key dog\",\"a8 act zoo\"]\n",
    "logs = [\"a1 9 2 3 1\",\"g1 act car\",\"zo4 4 7\",\"ab1 off key dog\",\"a8 act zoo\",\"a2 act car\"]\n",
    "a = Solution()\n",
    "a.reorderLogFiles(logs)"
   ]
  },
  {
   "cell_type": "code",
   "execution_count": 153,
   "id": "f8e48ce9-7302-4c41-a13f-c38ae7c3b223",
   "metadata": {
    "execution": {
     "iopub.execute_input": "2023-05-16T03:00:04.721387Z",
     "iopub.status.busy": "2023-05-16T03:00:04.720389Z",
     "iopub.status.idle": "2023-05-16T03:00:04.729070Z",
     "shell.execute_reply": "2023-05-16T03:00:04.728078Z",
     "shell.execute_reply.started": "2023-05-16T03:00:04.721387Z"
    },
    "tags": []
   },
   "outputs": [
    {
     "data": {
      "text/plain": [
       "'the'"
      ]
     },
     "execution_count": 153,
     "metadata": {},
     "output_type": "execute_result"
    }
   ],
   "source": [
    "# https://leetcode.com/problems/most-common-word/\n",
    "# 6장 04) 가장 흔한 단어 (easy)\n",
    "import re,collections\n",
    "class Solution:\n",
    "    def mostCommonWord(self, paragraph: str, banned: List[str]) -> str:\n",
    "        paragraph = re.sub(\"[!?',;.]\",' ',paragraph.lower()).split()\n",
    "        \n",
    "        paragraph = [s for s in paragraph if s not in banned]\n",
    "\n",
    "        for v,k in collections.Counter(paragraph).items():\n",
    "            if k==max(collections.Counter(paragraph).values()):\n",
    "                return v\n",
    "        \n",
    "paragraph = \"Bob hit a ball, the hit BALL flew far after it was hit.\" \n",
    "# paragraph = \"a, a, a, a, b,b,b,c, c\"\n",
    "paragraph = \"abc abc? abcd the jeff!\"\n",
    "banned = [\"abc\",\"abcd\",\"jeff\"]      \n",
    "a = Solution()\n",
    "a.mostCommonWord(paragraph,banned)        "
   ]
  },
  {
   "cell_type": "markdown",
   "id": "ac0ededc-d442-470a-afba-360167a48a5d",
   "metadata": {},
   "source": [
    "## 7장 배열"
   ]
  },
  {
   "cell_type": "code",
   "execution_count": 39,
   "id": "b8e2eca4-a739-427b-b61b-08efeadd7584",
   "metadata": {
    "execution": {
     "iopub.execute_input": "2023-05-17T01:36:32.202032Z",
     "iopub.status.busy": "2023-05-17T01:36:32.202032Z",
     "iopub.status.idle": "2023-05-17T01:36:32.208940Z",
     "shell.execute_reply": "2023-05-17T01:36:32.208940Z",
     "shell.execute_reply.started": "2023-05-17T01:36:32.202032Z"
    },
    "tags": []
   },
   "outputs": [
    {
     "data": {
      "text/plain": [
       "[1, 2]"
      ]
     },
     "execution_count": 39,
     "metadata": {},
     "output_type": "execute_result"
    }
   ],
   "source": [
    "# https://leetcode.com/problems/two-sum/\n",
    "# 7장 07) 두 수의 합(easy)\n",
    "from typing import List\n",
    "class Solution:\n",
    "    def twoSum(self, nums: List[int], target: int) -> List[int]:\n",
    "        # 내가 푼 방식 : 브루트 포스(비효율 방법의 대명사)\n",
    "        # for i,num1 in enumerate(nums):\n",
    "        #     for j,num2 in enumerate(nums[1+i:],start=1+i):\n",
    "        #         if num1+num2==target:\n",
    "        #             return [i,j]\n",
    "        \n",
    "        # 딕셔너리를 이용해 하는 방법(더 빠름) for 한번 사용\n",
    "        nums_dic = {}\n",
    "        for i,num in enumerate(nums):\n",
    "            \n",
    "            if target-num in nums_dic:\n",
    "                return [nums_dic[target-num],i]\n",
    "                \n",
    "            nums_dic[num] = i \n",
    "        \n",
    "\n",
    "nums = [3,5,5,11]\n",
    "target = 10 \n",
    "a = Solution()\n",
    "a.twoSum(nums,target)        "
   ]
  },
  {
   "cell_type": "code",
   "execution_count": 50,
   "id": "cd9a25e2-3ca8-486a-8331-f7df0ae40985",
   "metadata": {
    "execution": {
     "iopub.execute_input": "2023-05-17T02:13:52.216925Z",
     "iopub.status.busy": "2023-05-17T02:13:52.216925Z",
     "iopub.status.idle": "2023-05-17T02:13:52.224334Z",
     "shell.execute_reply": "2023-05-17T02:13:52.224334Z",
     "shell.execute_reply.started": "2023-05-17T02:13:52.216925Z"
    },
    "tags": []
   },
   "outputs": [
    {
     "data": {
      "text/plain": [
       "9"
      ]
     },
     "execution_count": 50,
     "metadata": {},
     "output_type": "execute_result"
    }
   ],
   "source": [
    "# https://leetcode.com/problems/array-partition/\n",
    "# 7장 10) 배열 파티션 1(easy)\n",
    "\n",
    "class Solution:\n",
    "    def arrayPairSum(self, nums: List[int]) -> int:\n",
    "        \n",
    "        # 내가 푼 방식\n",
    "        # nums.sort()\n",
    "        # a = 0\n",
    "        # for i in range(0,len(nums),2):\n",
    "        #     a+=min(nums[i],nums[i+1])\n",
    "        # return a\n",
    "        \n",
    "        # 책 풀이. 좀 더 간결하게 푸는 방법\n",
    "        return sum(sorted(nums)[::2])\n",
    "        \n",
    "        \n",
    "nums = [6,2,6,5,1,2]\n",
    "a = Solution()\n",
    "a.arrayPairSum(nums)   "
   ]
  },
  {
   "cell_type": "code",
   "execution_count": 74,
   "id": "7f9375e6-046a-4bf2-a67e-ce7c973cc5e9",
   "metadata": {
    "execution": {
     "iopub.execute_input": "2023-05-17T03:28:49.583691Z",
     "iopub.status.busy": "2023-05-17T03:28:49.583691Z",
     "iopub.status.idle": "2023-05-17T03:28:49.591333Z",
     "shell.execute_reply": "2023-05-17T03:28:49.591333Z",
     "shell.execute_reply.started": "2023-05-17T03:28:49.583691Z"
    },
    "tags": []
   },
   "outputs": [
    {
     "data": {
      "text/plain": [
       "2"
      ]
     },
     "execution_count": 74,
     "metadata": {},
     "output_type": "execute_result"
    }
   ],
   "source": [
    "# https://leetcode.com/problems/best-time-to-buy-and-sell-stock/\n",
    "# 7장 12) 주식을 사고팔기 가장 좋은 시점 (easy)\n",
    "# 시간 초과로 못품\n",
    "class Solution:\n",
    "    def maxProfit(self, prices: List[int]) -> int:\n",
    "        \n",
    "        # 내가 푼 방식 \n",
    "        # 부르트포스(중첩for) 안할려고 애썼으나.. 내부적으로 부르트포스 처럼 동작\n",
    "        # max1=0\n",
    "        # for i in range(len(prices)-1):\n",
    "        #     b = max(prices[i+1:])\n",
    "        #     if prices[i] < b:\n",
    "        #         max1 = max(max1,b-prices[i])\n",
    "        # return max1\n",
    "    \n",
    "        # 다이나믹 프로그래밍 : 카데인 알고리즘 활용(추후 책에서 배움)\n",
    "        # 최소값을 기록하고 최소값을 뺀 가격의 최대값을 교체해 나간다\n",
    "        mins = float('inf')\n",
    "        maxs = -float('inf')\n",
    "        for price in prices:\n",
    "            mins = min(mins,price)\n",
    "            maxs = max(maxs,price-mins)\n",
    "        return maxs\n",
    "        \n",
    "        \n",
    "prices = [7,1,5,3,6,4]\n",
    "prices = [7,6,4,3,1]\n",
    "prices = [2,4,1]\n",
    "a = Solution()\n",
    "a.maxProfit(prices)           "
   ]
  },
  {
   "cell_type": "markdown",
   "id": "4e0a8a02-37ef-4c10-89d4-16a2ad4d2136",
   "metadata": {},
   "source": [
    "## 9장 스택, 큐\n",
    "\n",
    "팁! 리스트를 하나만들고 for문으로 원본 요소를 가져와 만든 리스트에 append 하거나 pop 해서 비교를 하는식으로 한다\n"
   ]
  },
  {
   "cell_type": "code",
   "execution_count": 25,
   "id": "aa4e6c5c-f3b4-4ed3-abc1-af961d66856a",
   "metadata": {
    "execution": {
     "iopub.execute_input": "2023-05-18T01:18:34.913493Z",
     "iopub.status.busy": "2023-05-18T01:18:34.913493Z",
     "iopub.status.idle": "2023-05-18T01:18:34.920492Z",
     "shell.execute_reply": "2023-05-18T01:18:34.920492Z",
     "shell.execute_reply.started": "2023-05-18T01:18:34.913493Z"
    },
    "tags": []
   },
   "outputs": [
    {
     "data": {
      "text/plain": [
       "True"
      ]
     },
     "execution_count": 25,
     "metadata": {},
     "output_type": "execute_result"
    }
   ],
   "source": [
    "# https://leetcode.com/problems/valid-parentheses/\n",
    "# 9장 20) 유효한 괄호 (easy)\n",
    "# 스택을 이용해서 하는건 익숙하지 않아서.. 답지 봄\n",
    "import collections\n",
    "class Solution:\n",
    "    def isValid(self, ss: str) -> bool:\n",
    "        stack = []\n",
    "        table = {\n",
    "            '(': ')',\n",
    "            '{': '}',\n",
    "            '[': ']'\n",
    "        }\n",
    "        \n",
    "        for s in ss:\n",
    "            if s in table:\n",
    "                stack.append(s)\n",
    "            elif len(stack)==0 or table[stack.pop()]!=s:\n",
    "                return False\n",
    "        return len(stack)==0\n",
    "        \n",
    "        \n",
    "s = \"(())\"     \n",
    "a = Solution()\n",
    "a.isValid(s)            "
   ]
  },
  {
   "cell_type": "code",
   "execution_count": 5,
   "id": "0b5d938c-1f7b-474b-963f-78fc0de85ab0",
   "metadata": {
    "execution": {
     "iopub.execute_input": "2023-05-18T09:34:41.547471Z",
     "iopub.status.busy": "2023-05-18T09:34:41.546483Z",
     "iopub.status.idle": "2023-05-18T09:34:41.554453Z",
     "shell.execute_reply": "2023-05-18T09:34:41.553470Z",
     "shell.execute_reply.started": "2023-05-18T09:34:41.547471Z"
    },
    "tags": []
   },
   "outputs": [],
   "source": [
    "# https://leetcode.com/problems/implement-stack-using-queues/\n",
    "# 9장 23) 큐를 이용한 스택 구현 (easy)\n",
    "class MyStack:\n",
    "\n",
    "    def __init__(self):\n",
    "        self.list1 = list()\n",
    "\n",
    "    def push(self, x: int) -> None:\n",
    "        self.list1.append(x)\n",
    "\n",
    "    def pop(self) -> int:\n",
    "        return self.list1.pop()\n",
    "\n",
    "    def top(self) -> int:\n",
    "        return self.list1[-1]\n",
    "        \n",
    "    def empty(self) -> bool:\n",
    "        return len(self.list1)==0\n",
    "\n",
    "\n",
    "# Your MyStack object will be instantiated and called as such:\n",
    "\n",
    "obj = MyStack()\n",
    "obj.push(1)\n",
    "obj.push(2)\n",
    "param_2 = obj.pop()\n",
    "param_3 = obj.top()\n",
    "param_4 = obj.empty()"
   ]
  },
  {
   "cell_type": "code",
   "execution_count": null,
   "id": "d048293e-82ae-4a90-90fc-03b3f3985034",
   "metadata": {},
   "outputs": [],
   "source": [
    "# https://leetcode.com/problems/implement-queue-using-stacks/\n",
    "# 9장 24) 스택을 이용한 큐 구현 (easy)\n",
    "# 의미 없어서 생략"
   ]
  },
  {
   "cell_type": "markdown",
   "id": "be577598-08c4-4301-a37f-55df92e5d7f5",
   "metadata": {},
   "source": [
    "## 11장 해시 테이블\n",
    "\n",
    "\n"
   ]
  },
  {
   "cell_type": "code",
   "execution_count": 16,
   "id": "18b5d096-2033-4114-b925-7ef34338e31b",
   "metadata": {
    "execution": {
     "iopub.execute_input": "2023-05-19T00:41:36.673674Z",
     "iopub.status.busy": "2023-05-19T00:41:36.673674Z",
     "iopub.status.idle": "2023-05-19T00:41:36.681140Z",
     "shell.execute_reply": "2023-05-19T00:41:36.681140Z",
     "shell.execute_reply.started": "2023-05-19T00:41:36.673674Z"
    },
    "tags": []
   },
   "outputs": [
    {
     "name": "stdout",
     "output_type": "stream",
     "text": [
      "1\n"
     ]
    },
    {
     "data": {
      "text/plain": [
       "-1"
      ]
     },
     "execution_count": 16,
     "metadata": {},
     "output_type": "execute_result"
    }
   ],
   "source": [
    "# https://leetcode.com/problems/design-hashmap/\n",
    "# 11장 28) 해시맵 디자인 (easy)\n",
    "class MyHashMap:\n",
    "\n",
    "    def __init__(self):\n",
    "        self.dict1 = dict()\n",
    "\n",
    "    def put(self, key: int, value: int) -> None:\n",
    "        self.dict1[key] = value\n",
    "\n",
    "    def get(self, key: int) -> int:\n",
    "        if key in self.dict1:\n",
    "            return self.dict1[key]\n",
    "        return -1\n",
    "\n",
    "    def remove(self, key: int) -> None:\n",
    "        if key in self.dict1:\n",
    "            del self.dict1[key]\n",
    "        \n",
    "a = MyHashMap()\n",
    "a.put(1,1)\n",
    "print(a.get(1))\n",
    "a.remove(1)\n",
    "a.get(1)"
   ]
  },
  {
   "cell_type": "code",
   "execution_count": 29,
   "id": "cc035f35-cbce-4bf4-9c15-810a6b4718bf",
   "metadata": {
    "execution": {
     "iopub.execute_input": "2023-05-19T00:59:25.126944Z",
     "iopub.status.busy": "2023-05-19T00:59:25.125915Z",
     "iopub.status.idle": "2023-05-19T00:59:25.133441Z",
     "shell.execute_reply": "2023-05-19T00:59:25.132448Z",
     "shell.execute_reply.started": "2023-05-19T00:59:25.126944Z"
    },
    "tags": []
   },
   "outputs": [
    {
     "data": {
      "text/plain": [
       "3"
      ]
     },
     "execution_count": 29,
     "metadata": {},
     "output_type": "execute_result"
    }
   ],
   "source": [
    "# https://leetcode.com/problems/jewels-and-stones/\n",
    "# 11장 29) 보석과 돌 (easy)\n",
    "import collections\n",
    "class Solution:\n",
    "    def numJewelsInStones(self, jewels: str, stones: str) -> int:\n",
    "        # 내가 푼 방식\n",
    "        # stones_dict = collections.Counter(stones)\n",
    "        # return sum(stones_dict[i] for i in jewels)\n",
    "        \n",
    "        # 답지\n",
    "        return sum(i in jewels for i in stones)\n",
    "        \n",
    "    \n",
    "jewels = \"aA\" \n",
    "stones = \"aAAbbbb\" # a가 1개, A가 2개로 총 3개\n",
    "a = Solution()\n",
    "a.numJewelsInStones(jewels,stones) "
   ]
  },
  {
   "cell_type": "markdown",
   "id": "26d5f43d-f031-4f1c-9d28-8a2df78070e2",
   "metadata": {},
   "source": [
    "## 12장 그래프\n",
    "\n",
    "\n",
    "그래프 순회\n",
    "\n",
    "DFS(깊이 우선 탐색)\n",
    "\n",
    "주로 스택으로 구현하거나 재귀로 구현하며, 백트래킹을 구현하는 방법\n",
    "\n",
    "주로 재귀로 표현 한다. 스택보다 조금 느리지만 코드가 간결함. \n",
    "\n",
    "BFS(너비 우선 탐색)\n",
    "\n",
    "주로 큐로 구현. 재귀로 표현 못함. 그래프의 최단 경로를 구하는 문제 사용. 다익스트라 알고리즘으로 최단경로 찾는 문제에 사용\n"
   ]
  },
  {
   "cell_type": "code",
   "execution_count": 12,
   "id": "3f09e912-dfae-453e-801e-d3813c763be5",
   "metadata": {
    "execution": {
     "iopub.execute_input": "2023-06-19T05:07:43.805617Z",
     "iopub.status.busy": "2023-06-19T05:07:43.805617Z",
     "iopub.status.idle": "2023-06-19T05:07:43.813834Z",
     "shell.execute_reply": "2023-06-19T05:07:43.812837Z",
     "shell.execute_reply.started": "2023-06-19T05:07:43.805617Z"
    },
    "tags": []
   },
   "outputs": [
    {
     "name": "stdout",
     "output_type": "stream",
     "text": [
      "[1, 2, 5, 6, 7, 3, 4]\n",
      "[1, 4, 3, 5, 7, 6, 2]\n",
      "[1, 2, 3, 4, 5, 6, 7]\n"
     ]
    }
   ],
   "source": [
    "# DFS, BFS 기본 코드\n",
    "# 키는 각 노드를 의미. 값은 갈 수 있는 노드를 의미\n",
    "graph = {1:[2,3,4],2:[5],3:[5],4:[],5:[6,7],6:[],7:[3]}\n",
    "#graph = {1:[2],2:[1,3],3:[2],4:[4]}\n",
    "# DFS :재귀로 구현\n",
    "def recursive_dfs(start_node, discovered=[]):\n",
    "    \n",
    "    discovered.append(start_node)\n",
    "    for going_node in graph[start_node]:\n",
    "        if going_node not in discovered:\n",
    "            discovered = recursive_dfs(going_node,discovered)\n",
    "    return discovered\n",
    "print(recursive_dfs(1)) # 1에서 시작해 갈수 있는 모든 노드\n",
    "\n",
    "# DFS : 스택을 이용한 반복 \n",
    "def iterative_dfs(start_node,discovered=[]):\n",
    "    stack = [start_node]\n",
    "    while stack:\n",
    "        start_node = stack.pop() # 확실하지 않지만 pop(0)으로 바꾸면 BFS 처럼 동작함. 단 스텍에 중첩 요소가 들어가서 비효율적 동작함\n",
    "        if start_node not in discovered:\n",
    "            discovered.append(start_node)\n",
    "            for going_node in graph[start_node]:\n",
    "                stack.append(going_node)\n",
    "    return discovered\n",
    "print(iterative_dfs(1))\n",
    "\n",
    "# BFS : 큐를 이용한 반복 \n",
    "def iterative_bfs(start_node):\n",
    "    discovered = [start_node]\n",
    "    queue = [start_node]\n",
    "    while queue:\n",
    "        start_node = queue.pop(0)\n",
    "        for going_node in graph[start_node]:\n",
    "            if going_node not in discovered:\n",
    "                discovered.append(going_node)\n",
    "                queue.append(going_node)\n",
    "        \n",
    "    return discovered\n",
    "print(iterative_bfs(1))"
   ]
  },
  {
   "cell_type": "code",
   "execution_count": 85,
   "id": "72c5c74d-8e9b-4b9b-b40d-ec2ed5db93bc",
   "metadata": {
    "execution": {
     "iopub.execute_input": "2023-06-16T06:58:16.225270Z",
     "iopub.status.busy": "2023-06-16T06:58:16.225270Z",
     "iopub.status.idle": "2023-06-16T06:58:16.233843Z",
     "shell.execute_reply": "2023-06-16T06:58:16.233843Z",
     "shell.execute_reply.started": "2023-06-16T06:58:16.225270Z"
    },
    "tags": []
   },
   "outputs": [
    {
     "data": {
      "text/plain": [
       "3"
      ]
     },
     "execution_count": 85,
     "metadata": {},
     "output_type": "execute_result"
    }
   ],
   "source": [
    "# https://leetcode.com/problems/number-of-islands/\n",
    "# 12장 32) 섬의 개수 (medium)\n",
    "# 책보고 품(다시 풀어보자)\n",
    "from typing import List\n",
    "class Solution:\n",
    "    def numIslands(self, grid: List[List[str]]) -> int:\n",
    "        count = 0\n",
    "        def DFS(i,j):\n",
    "            \n",
    "            # 백 트래킹(조건에 안맞으면 더이상 진행 안하고 빠져나오기)\n",
    "            # 여기선 섬이 아닌 모든 경우를 제외 해야함\n",
    "            if i<0 or j<0 or i>=len(grid) or j>=len(grid[0]) or grid[i][j]=='0':\n",
    "                return\n",
    "            \n",
    "            # 가지치기(다시 계산하는 경우 없에기 위해)\n",
    "            grid[i][j] = '0'\n",
    "            \n",
    "            # 동서남북으로 재귀로 탐색하기\n",
    "            DFS(i,j+1)\n",
    "            DFS(i,j-1)\n",
    "            DFS(i+1,j)\n",
    "            DFS(i-1,j)\n",
    "            \n",
    "        for i in range(len(grid)):\n",
    "            for j in range(len(grid[i])):\n",
    "                if grid[i][j]=='1':\n",
    "                    # 한번 DFS 재귀 하고나면 1로 연결된 것든은 전부 0으로 바뀜\n",
    "                    DFS(i,j)\n",
    "                    count+=1\n",
    "        \n",
    "        return count\n",
    "\n",
    "grid = [\n",
    "  [\"1\",\"1\",\"0\",\"0\",\"0\"],\n",
    "  [\"1\",\"1\",\"0\",\"0\",\"0\"],\n",
    "  [\"0\",\"0\",\"1\",\"0\",\"0\"],\n",
    "  [\"0\",\"0\",\"0\",\"1\",\"1\"]\n",
    "]\n",
    "a = Solution()\n",
    "a.numIslands(grid) "
   ]
  },
  {
   "cell_type": "code",
   "execution_count": 42,
   "id": "95d40628-864b-4cab-8241-1f7961a6e21f",
   "metadata": {
    "execution": {
     "iopub.execute_input": "2023-06-18T04:25:07.242165Z",
     "iopub.status.busy": "2023-06-18T04:25:07.241165Z",
     "iopub.status.idle": "2023-06-18T04:25:07.250491Z",
     "shell.execute_reply": "2023-06-18T04:25:07.250491Z",
     "shell.execute_reply.started": "2023-06-18T04:25:07.242165Z"
    },
    "tags": []
   },
   "outputs": [
    {
     "data": {
      "text/plain": [
       "['aa', 'ab', 'ac', 'ba', 'bb', 'bc', 'ca', 'cb', 'cc']"
      ]
     },
     "execution_count": 42,
     "metadata": {},
     "output_type": "execute_result"
    }
   ],
   "source": [
    "# https://leetcode.com/problems/letter-combinations-of-a-phone-number/\n",
    "# 12장 33) 전화 번호 문자 조합 (medium)\n",
    "# 중복순열(product)을 이용하면 되는 문제이긴한데.. 다른사람들은 백트래킹으로 주로 품. 그걸 의도한 문제같음\n",
    "# DFS 풀이는 책보고 품(다시 풀어보자)\n",
    "from typing import List\n",
    "import itertools\n",
    "class Solution:\n",
    "    def letterCombinations(self, digits: str) -> List[str]:\n",
    "        # DFS 안쓰고 푼 문제\n",
    "        # if digits=='':\n",
    "        #     return []\n",
    "        # dic = {\"2\": \"abc\", \"3\": \"def\", \"4\": \"ghi\", \"5\": \"jkl\",\n",
    "        #        \"6\": \"mno\", \"7\": \"pqrs\", \"8\": \"tuv\", \"9\": \"wxyz\"} \n",
    "        # list1 = [list(dic[d]) for d in digits]\n",
    "        # return list(map(''.join, itertools.product(*list1)))\n",
    "\n",
    "        # DFS 백트래킹을 이용한 풀이\n",
    "        if digits=='':\n",
    "             return []\n",
    "        def DFS(lens,strs):\n",
    "            \n",
    "            # 백 트래킹 : 조합한 문자와 입력값 길이가 같다면 나간다\n",
    "            if len(strs) == len(digits):\n",
    "                result.append(strs)\n",
    "                return\n",
    "            \n",
    "            # 첫번째 for은 딕셔너리에서 키 가져오기\n",
    "            for i in range(lens,len(digits)):\n",
    "                # 가져온 키값으로 값 가져오기\n",
    "                for j in dic[digits[i]]:\n",
    "                    DFS(i+1,strs+j)\n",
    "        \n",
    "        dic = {\"2\": \"abc\", \"3\": \"def\", \"4\": \"ghi\", \"5\": \"jkl\",\n",
    "                \"6\": \"mno\", \"7\": \"pqrs\", \"8\": \"tuv\", \"9\": \"wxyz\"} \n",
    "        result = []\n",
    "        DFS(0,'')\n",
    "        \n",
    "        return result\n",
    "    \n",
    "digits = \"22\"\n",
    "a = Solution()\n",
    "a.letterCombinations(digits) "
   ]
  },
  {
   "cell_type": "code",
   "execution_count": 31,
   "id": "1087ffbc-c9a3-40b1-b96c-119274146a11",
   "metadata": {
    "execution": {
     "iopub.execute_input": "2023-06-18T02:23:22.365126Z",
     "iopub.status.busy": "2023-06-18T02:23:22.364159Z",
     "iopub.status.idle": "2023-06-18T02:23:22.374199Z",
     "shell.execute_reply": "2023-06-18T02:23:22.374151Z",
     "shell.execute_reply.started": "2023-06-18T02:23:22.365126Z"
    },
    "tags": []
   },
   "outputs": [
    {
     "data": {
      "text/plain": [
       "[[1, 2, 3], [1, 3, 2], [2, 1, 3], [2, 3, 1], [3, 1, 2], [3, 2, 1]]"
      ]
     },
     "execution_count": 31,
     "metadata": {},
     "output_type": "execute_result"
    }
   ],
   "source": [
    "# https://leetcode.com/problems/permutations/\n",
    "# 12장 34) 순열 (medium)\n",
    "class Solution:\n",
    "    # 내가 공부하고 다시 푼 코드. 아래 코드랑 달리 1,1,3도 순열 구할 수 있음.\n",
    "    def permute1(self, nums: List[int]) -> List[List[int]]:\n",
    "        \n",
    "        def DFS(part):\n",
    "            # 백트래킹: 조합한 요소가 원본 리스트랑 같다면 나가기\n",
    "            if len(nums)==len(part):\n",
    "                res.append(part[:])\n",
    "                return\n",
    "            \n",
    "            # 원본 리스트 만큼 반복\n",
    "            for i in range(len(nums)):\n",
    "                # 자기 자신과 조합 하면 안되니 vi로 방문 안한 것만 조합한다\n",
    "                if vi[i]==0:\n",
    "                    vi[i]=1 # 방문했으니 방문했다고 바꿔줌\n",
    "                    part.append(nums[i])\n",
    "                    DFS(part)\n",
    "                    vi[i]=0 # DFS 빠져 나오면 방문 안할걸로 바꾸기\n",
    "                    part.pop()\n",
    "                    \n",
    "        vi = [0]*len(nums)\n",
    "        res = []            \n",
    "        DFS([])\n",
    "        return res\n",
    "    # 다른 사람이 DFS로 푼 문제 (책보다 간결함)\n",
    "    # 좋은 풀이는 아님.. 각 요소가 모두 달라야 가능 1,2,2 순열을 구하려면 아래 코드로 불가능\n",
    "    def permute2(self, nums: List[int]) -> List[List[int]]:\n",
    "        \n",
    "        def DFS(part):\n",
    "            if len(part) == len(nums):\n",
    "                res.append(part.copy()) # 만약 copy 안쓰게 되면 append한 part 가 바뀔때마다 res 도 바뀌게 된다!\n",
    "                return\n",
    "            \n",
    "            for x in nums:\n",
    "                if x not in part:\n",
    "                    part.append(x)\n",
    "                    DFS(part)\n",
    "                    part.pop()\n",
    "        res = []            \n",
    "        DFS([])\n",
    "        return res\n",
    "nums = [1,2,3]\n",
    "a = Solution()\n",
    "a.permute1(nums) "
   ]
  },
  {
   "cell_type": "code",
   "execution_count": 41,
   "id": "a2e49cdb-8a19-4dfe-9c5a-b7f2f137239b",
   "metadata": {
    "execution": {
     "iopub.execute_input": "2023-06-18T04:13:11.386618Z",
     "iopub.status.busy": "2023-06-18T04:13:11.386618Z",
     "iopub.status.idle": "2023-06-18T04:13:11.399980Z",
     "shell.execute_reply": "2023-06-18T04:13:11.399980Z",
     "shell.execute_reply.started": "2023-06-18T04:13:11.386618Z"
    },
    "tags": []
   },
   "outputs": [
    {
     "data": {
      "text/plain": [
       "[[1, 2], [1, 3], [2, 3]]"
      ]
     },
     "execution_count": 41,
     "metadata": {},
     "output_type": "execute_result"
    }
   ],
   "source": [
    "# https://leetcode.com/problems/combinations/\n",
    "# 12장 35) 조합 (medium)\n",
    "from typing import List\n",
    "class Solution:\n",
    "    # 위 순열 푼 방식(2번째)대로 풀었는데 시간 초과 뜸. 틀리진 않음.\n",
    "    def combine1(self, n: int, k: int) -> List[List[int]]:\n",
    "        def DFS(part):\n",
    "            \n",
    "            # 백 트래킹\n",
    "            # 임시 리스트 길이가 k 와 같으면 나감.  # 정렬해서 같으면 같은 경우의 수로 판단\n",
    "            if len(part) == k and sorted(part) not in result:\n",
    "                result.append(part[:])\n",
    "                return\n",
    "            \n",
    "            for i in list1:\n",
    "                if i not in part:\n",
    "                    part.append(i)\n",
    "                    DFS(part)\n",
    "                    part.pop()\n",
    "        \n",
    "        result = []\n",
    "        list1 = [i for i in range(1,n+1)]\n",
    "        DFS([])\n",
    "\n",
    "        return result\n",
    "    \n",
    "    # 책에 있는 풀이(내가 조금 수정). 모든 경우의 수를 구하지 않으니 빠르다\n",
    "    def combine2(self, n: int, k: int) -> List[List[int]]:\n",
    "\n",
    "        def dfs(elements, start: int):\n",
    "            \n",
    "            # 백 트래킹 : 조합한 요소 길이가 요구한 길이와 같으면 나가기\n",
    "            if k == len(elements):\n",
    "                results.append(elements[:])\n",
    "            \n",
    "            # start 변수로 이미 선택한 요소는 배제하기\n",
    "            for i in range(start,len(list1)):\n",
    "                elements.append(list1[i])\n",
    "                dfs(elements,i+1)\n",
    "                elements.pop()\n",
    "        \n",
    "        results = []\n",
    "        list1 = [i for i in range(1,n+1)]\n",
    "        dfs([], 0)\n",
    "        return results\n",
    "n = 3 \n",
    "k = 2     \n",
    "a = Solution()\n",
    "#a.combine1(n , k )\n",
    "a.combine2(n , k )"
   ]
  },
  {
   "cell_type": "markdown",
   "id": "f4f01cc7-d553-4ff5-adc8-3d30ce49cb95",
   "metadata": {},
   "source": [
    "## 13장 최단 경로 문제\n",
    "\n",
    "다익스트라 알고리즘으로 푸는데 다익스트라 내부적(노드 탐색할때)으론 BFS 를 이용한다\n"
   ]
  },
  {
   "cell_type": "code",
   "execution_count": 19,
   "id": "d13687e0-c77a-4f36-9e44-a14be7e216fb",
   "metadata": {
    "execution": {
     "iopub.execute_input": "2023-06-19T06:31:34.213961Z",
     "iopub.status.busy": "2023-06-19T06:31:34.212961Z",
     "iopub.status.idle": "2023-06-19T06:31:34.223224Z",
     "shell.execute_reply": "2023-06-19T06:31:34.222217Z",
     "shell.execute_reply.started": "2023-06-19T06:31:34.213961Z"
    },
    "tags": []
   },
   "outputs": [
    {
     "name": "stdout",
     "output_type": "stream",
     "text": [
      "defaultdict(<class 'int'>, {2: 0, 1: 1, 3: 1, 4: 2})\n"
     ]
    },
    {
     "data": {
      "text/plain": [
       "2"
      ]
     },
     "execution_count": 19,
     "metadata": {},
     "output_type": "execute_result"
    }
   ],
   "source": [
    "# 책 보고 복붙해 옴\n",
    "\n",
    "import collections\n",
    "import heapq\n",
    "from typing import List\n",
    "class Solution:\n",
    "    def networkDelayTime(self, times: List[List[int]], N: int, K: int) -> int:\n",
    "        graph = collections.defaultdict(list)\n",
    "        # 그래프 인접 리스트 구성\n",
    "        for u, v, w in times:\n",
    "            graph[u].append((v, w))\n",
    "\n",
    "        # 큐 변수: [(소요 시간, 정점)]\n",
    "        Q = [(0, K)]\n",
    "        dist = collections.defaultdict(int)\n",
    "\n",
    "        # 우선 순위 큐 최소값 기준으로 정점까지 최단 경로 삽입\n",
    "        while Q:\n",
    "            time, node = heapq.heappop(Q)\n",
    "            if node not in dist:\n",
    "                dist[node] = time\n",
    "                for v, w in graph[node]:\n",
    "                    alt = time + w\n",
    "                    heapq.heappush(Q, (alt, v))\n",
    "        \n",
    "        print(dist)\n",
    "        # 모든 노드 최단 경로 존재 여부 판별\n",
    "        if len(dist) == N:\n",
    "            return max(dist.values())\n",
    "        return -1\n",
    "    \n",
    "times = [[2,1,1],[2,3,1],[3,4,1]]\n",
    "n = 4\n",
    "k = 2\n",
    "a = Solution()\n",
    "a.networkDelayTime(times,n,k) "
   ]
  },
  {
   "cell_type": "markdown",
   "id": "64f5c03c-c285-439f-b33c-808a51fab288",
   "metadata": {
    "tags": []
   },
   "source": [
    "## 15장 힙\n",
    "#### https://blog.naver.com/ehrtk2002/223107601964\n",
    "트리 기반 자료구조\n",
    "\n",
    "우선순위 큐를 사용할 때 활용했던 heapq 모듈이 (최소)힙으로 구현 되어있다.\n",
    "\n",
    "최소 힙은 루트 노드에 가장 작은 값이 들어있고 최대 힙은 루트 노드에 가장 큰 값이 들어있다.\n",
    "\n",
    "주의할 점은 힙은 정렬이 되어 있지 않다는 것이다\n",
    "\n",
    "부모노드가 자식보다 크거나 작거나 나타내는 것이지, 좌우 정렬 관계는 아니라는 것\n",
    "\n",
    "보통 이진 힙으로 완전 이진 트리 형태로 이루어져 있음\n",
    "\n",
    "완전 이진 트리이기 때문에 리스트로 구현하기 좋음(트리이기 때문에 인덱스 1번부터 시작)\n"
   ]
  },
  {
   "cell_type": "code",
   "execution_count": null,
   "id": "21fcd6a9-60cf-4c96-a51c-e07cc987c212",
   "metadata": {},
   "outputs": [],
   "source": []
  },
  {
   "cell_type": "code",
   "execution_count": null,
   "id": "11453e0f-8e82-474c-9706-07c981c16760",
   "metadata": {},
   "outputs": [],
   "source": []
  },
  {
   "cell_type": "markdown",
   "id": "bae2781d-b5bd-4917-aee9-293d36fcc995",
   "metadata": {},
   "source": [
    "## 17장 정렬\n",
    "\n",
    "#### 병합 정렬\n",
    "\n",
    "대부분 퀵 정렬보다 느리지만 최악 최선 nlogn을 가짐\n",
    "\n",
    "그래서 퀵으로 풀리지 않은 문제가 병합으로 풀리기도 함\n",
    "\n",
    "#### 퀵 정렬\n",
    "\n",
    "대부분의 경우 병합보다 빠르지만 특정한 경우 예를들어 이미 정렬된 배열이 들어왔다면\n",
    "\n",
    "n^2 을 가지게 되서 버블 정렬과 다를 바 없는 최악의 성능을 보이게 된다\n",
    "\n",
    "#### 팀소트 정렬\n",
    "\n",
    "파이썬 기본 정렬이기도 한 알고리즘.(sorted())\n",
    "\n",
    "병합과 퀵의 장점을 결합한 알고리즘"
   ]
  },
  {
   "cell_type": "code",
   "execution_count": 1,
   "id": "9df80979-8046-4e42-8f8f-5c4be146bbb7",
   "metadata": {
    "execution": {
     "iopub.execute_input": "2023-05-26T00:47:01.280412Z",
     "iopub.status.busy": "2023-05-26T00:47:01.280412Z",
     "iopub.status.idle": "2023-05-26T00:47:01.294934Z",
     "shell.execute_reply": "2023-05-26T00:47:01.293932Z",
     "shell.execute_reply.started": "2023-05-26T00:47:01.280412Z"
    },
    "tags": []
   },
   "outputs": [
    {
     "data": {
      "text/plain": [
       "False"
      ]
     },
     "execution_count": 1,
     "metadata": {},
     "output_type": "execute_result"
    }
   ],
   "source": [
    "# https://leetcode.com/problems/jewels-and-stones/\n",
    "# 17장 62) 유요한 애너그램 (easy)\n",
    "\n",
    "class Solution:\n",
    "    def isAnagram(self, s: str, t: str) -> bool:\n",
    "        return sorted(s)==sorted(t)\n",
    "\n",
    "s = \"anagram\"\n",
    "t = \"nagaram\"\n",
    "s = \"rat\" \n",
    "t = \"car\"\n",
    "\n",
    "a = Solution()\n",
    "a.isAnagram(s,t) "
   ]
  },
  {
   "cell_type": "markdown",
   "id": "845ff00d-a38f-45c0-819b-a7e731c3942a",
   "metadata": {},
   "source": [
    "## 18장 이진 검색\n",
    "\n",
    "이전 이진 탐색 트리(BST)가 자료구조 라면 이진 검색은 알고리즘을 지칭\n",
    "\n",
    "정렬된 배열에 특정한 값을 찾는 알고리즘으로\n",
    "\n",
    "항상 절반씩 잘라서 그 값보다 크면 작은 값은 버리는 식으로 처리\n",
    "\n",
    "그래서 1억개가 넘는 배열에 a 숫자를 찾는다고 하면 27번이면 찾아낼수있다\n",
    "\n",
    "처음부터 하나하나 찾는다면 최대 1억번 반복해야 함"
   ]
  },
  {
   "cell_type": "code",
   "execution_count": 1,
   "id": "0d41b033-3d97-45ec-bf94-f8363900c63f",
   "metadata": {
    "execution": {
     "iopub.execute_input": "2023-05-26T23:17:44.707931Z",
     "iopub.status.busy": "2023-05-26T23:17:44.707931Z",
     "iopub.status.idle": "2023-05-26T23:17:44.723457Z",
     "shell.execute_reply": "2023-05-26T23:17:44.722503Z",
     "shell.execute_reply.started": "2023-05-26T23:17:44.707931Z"
    },
    "tags": []
   },
   "outputs": [
    {
     "data": {
      "text/plain": [
       "2"
      ]
     },
     "execution_count": 1,
     "metadata": {},
     "output_type": "execute_result"
    }
   ],
   "source": [
    "# https://leetcode.com/problems/binary-search/\n",
    "# 18장 65) 이진 검색 (easy)\n",
    "\n",
    "from typing import List\n",
    "import bisect\n",
    "\n",
    "class Solution:\n",
    "    def search(self, nums: List[int], target: int) -> int:\n",
    "        \n",
    "        # 내가 푼 답(index로 품, 이진검색 아님!)\n",
    "        # try:\n",
    "        #     return nums.index(target)\n",
    "        # except:\n",
    "        #     return -1\n",
    "        \n",
    "        # 재귀 사용\n",
    "        def binary_search(left, right):\n",
    "            if left <= right:\n",
    "                mid = (left+right)//2\n",
    "                if nums[mid] < target:\n",
    "                    return binary_search(mid+1,right)\n",
    "                elif nums[mid] > target:\n",
    "                    return binary_search(left,mid-1)\n",
    "                else:\n",
    "                    return mid\n",
    "            else:\n",
    "                return -1\n",
    "        \n",
    "        return binary_search(0,len(nums)-1)\n",
    "    \n",
    "#         반복문 사용(투 포인터 방식 사용!)\n",
    "#         left,right = 0, len(nums)-1\n",
    "#         while left <= right:\n",
    "#             mid  = (left+right)//2\n",
    "            \n",
    "#             if nums[mid] < target:\n",
    "#                 left = mid + 1\n",
    "#             elif nums[mid] > target:\n",
    "#                 right = mid - 1\n",
    "#             else:\n",
    "#                 return mid    \n",
    "#         return -1\n",
    "        \n",
    "        \n",
    "        # 모듈 사용\n",
    "        # index1 = bisect.bisect_left(nums,target)\n",
    "        # if index1 < len(nums) and nums[index1] == target:\n",
    "        #     return index1\n",
    "        # else:\n",
    "        #     return -1\n",
    "\n",
    "        \n",
    "        \n",
    "# nums는 정렬된 배열\n",
    "nums = [-1,0,3,5,9,12]\n",
    "target = 3\n",
    "a = Solution()\n",
    "a.search(nums,target)        "
   ]
  },
  {
   "cell_type": "code",
   "execution_count": 33,
   "id": "8073c83b-0106-4de5-b062-82a833a5d757",
   "metadata": {
    "execution": {
     "iopub.execute_input": "2023-05-26T02:04:33.909471Z",
     "iopub.status.busy": "2023-05-26T02:04:33.909471Z",
     "iopub.status.idle": "2023-05-26T02:04:33.915748Z",
     "shell.execute_reply": "2023-05-26T02:04:33.915748Z",
     "shell.execute_reply.started": "2023-05-26T02:04:33.909471Z"
    },
    "tags": []
   },
   "outputs": [
    {
     "data": {
      "text/plain": [
       "{2}"
      ]
     },
     "execution_count": 33,
     "metadata": {},
     "output_type": "execute_result"
    }
   ],
   "source": [
    "# https://leetcode.com/problems/intersection-of-two-arrays/\n",
    "# 18장 67) 두 배열의 교집합 (easy)\n",
    "\n",
    "class Solution:\n",
    "    def intersection(self, nums1: List[int], nums2: List[int]) -> List[int]:\n",
    "        nums1, nums2 = set(nums1), set(nums2)\n",
    "        \n",
    "        return nums1&nums2\n",
    "                \n",
    "nums1 = [1,2,2,1]\n",
    "nums2 = [2,2]\n",
    "a = Solution()\n",
    "a.intersection(nums1,nums2)        "
   ]
  },
  {
   "cell_type": "code",
   "execution_count": 34,
   "id": "aad578b7-7306-4813-aafd-5a10985362c5",
   "metadata": {
    "execution": {
     "iopub.execute_input": "2023-05-26T02:12:23.783331Z",
     "iopub.status.busy": "2023-05-26T02:12:23.782335Z",
     "iopub.status.idle": "2023-05-26T02:12:23.789838Z",
     "shell.execute_reply": "2023-05-26T02:12:23.789838Z",
     "shell.execute_reply.started": "2023-05-26T02:12:23.783331Z"
    },
    "tags": []
   },
   "outputs": [
    {
     "data": {
      "text/plain": [
       "[1, 2]"
      ]
     },
     "execution_count": 34,
     "metadata": {},
     "output_type": "execute_result"
    }
   ],
   "source": [
    "# https://leetcode.com/problems/two-sum-ii-input-array-is-sorted/description/\n",
    "# 18장 68) 두수의 합 2  (medium)\n",
    "\n",
    "class Solution:\n",
    "    def twoSum(self, numbers: List[int], target: int) -> List[int]:\n",
    "        left = 0\n",
    "        right = len(numbers) - 1\n",
    "\n",
    "        while left < right:\n",
    "            current_sum = numbers[left] + numbers[right]\n",
    "\n",
    "            if current_sum == target:\n",
    "                return [left+1, right+1]\n",
    "            elif current_sum < target:\n",
    "                left += 1\n",
    "            else:\n",
    "                right -= 1\n",
    "\n",
    "        return None\n",
    "    \n",
    "numbers = [2,7,11,15]\n",
    "target = 9\n",
    "a = Solution()\n",
    "a.twoSum(numbers,target)     "
   ]
  },
  {
   "cell_type": "markdown",
   "id": "039f93f8-18c2-42bd-a39b-0d042efa8066",
   "metadata": {},
   "source": [
    "## 21장 그리디 알고리즘\n",
    "\n",
    "https://blog.naver.com/ehrtk2002/223109461423\n",
    "\n",
    "Greedy Algorithm은 문제를 해결하는 과정에서 그 순간순간마다 최적이라고 생각되는 결정을 하는 방식으로 진행하여 최종 해답에 도달하는 문제 해결 방식이다.\n",
    "\n",
    "우선순위 큐가 자주 쓰임. 항상 최소 또는 최대값을 추출 하기 때문에 그리디에 어울리는 자료구조"
   ]
  },
  {
   "cell_type": "code",
   "execution_count": 3,
   "id": "f28bd3ac-8879-4af2-ab88-c226967cfc11",
   "metadata": {
    "execution": {
     "iopub.execute_input": "2023-06-24T03:29:35.377334Z",
     "iopub.status.busy": "2023-06-24T03:29:35.377334Z",
     "iopub.status.idle": "2023-06-24T03:29:35.383811Z",
     "shell.execute_reply": "2023-06-24T03:29:35.383811Z",
     "shell.execute_reply.started": "2023-06-24T03:29:35.377334Z"
    },
    "tags": []
   },
   "outputs": [
    {
     "data": {
      "text/plain": [
       "7"
      ]
     },
     "execution_count": 3,
     "metadata": {},
     "output_type": "execute_result"
    }
   ],
   "source": [
    "# https://leetcode.com/problems/best-time-to-buy-and-sell-stock-ii/\n",
    "# 21장 78) 주식을 사고 팔기 가장 좋은 시점 2  (medium)\n",
    "# 책에 있는 코드\n",
    "from typing import List\n",
    "class Solution:\n",
    "    def maxProfit(self, prices: List[int]) -> int:\n",
    "        result = 0\n",
    "        # 값이 오르는 경우 매 번 그리디 계산\n",
    "        for i in range(len(prices) - 1):\n",
    "            if prices[i + 1] > prices[i]:\n",
    "                result += prices[i + 1] - prices[i]\n",
    "        return result\n",
    "        \n",
    "\n",
    "prices = [7,1,5,3,6,4]\n",
    "a = Solution()\n",
    "a.maxProfit(prices)     "
   ]
  },
  {
   "cell_type": "code",
   "execution_count": 16,
   "id": "1fb22864-8149-48ce-8a48-4f69a224188e",
   "metadata": {
    "execution": {
     "iopub.execute_input": "2023-06-24T04:15:39.286448Z",
     "iopub.status.busy": "2023-06-24T04:15:39.286448Z",
     "iopub.status.idle": "2023-06-24T04:15:39.294142Z",
     "shell.execute_reply": "2023-06-24T04:15:39.294142Z",
     "shell.execute_reply.started": "2023-06-24T04:15:39.286448Z"
    },
    "tags": []
   },
   "outputs": [
    {
     "name": "stdout",
     "output_type": "stream",
     "text": [
      "[(-7, 0), (-6, 1), (-7, 1), (-4, 4), (-5, 0), (-5, 2)]\n",
      "(-7, 0)\n",
      "(-7, 1)\n",
      "(-6, 1)\n",
      "(-5, 0)\n",
      "(-5, 2)\n",
      "(-4, 4)\n"
     ]
    },
    {
     "data": {
      "text/plain": [
       "[[5, 0], [7, 0], [5, 2], [6, 1], [4, 4], [7, 1]]"
      ]
     },
     "execution_count": 16,
     "metadata": {},
     "output_type": "execute_result"
    }
   ],
   "source": [
    "# https://leetcode.com/problems/queue-reconstruction-by-height/\n",
    "# 21장 77) 키에따른 대기열 재구성 (medium)\n",
    "# 책에 있는 코드\n",
    "\n",
    "import heapq\n",
    "from typing import List\n",
    "class Solution:\n",
    "    def reconstructQueue(self, people: List[List[int]]) -> List[List[int]]:\n",
    "        heap = []\n",
    "        # 키 역순, 인덱스 삽입\n",
    "        for person in people:\n",
    "            heapq.heappush(heap, (-person[0], person[1]))\n",
    "        print(heap)\n",
    "        result = []\n",
    "        # 키 역순, 인덱스 추출\n",
    "        while heap:\n",
    "            person = heapq.heappop(heap)\n",
    "            print(person)\n",
    "            result.insert(person[1], [-person[0], person[1]])\n",
    "        return result\n",
    "    \n",
    "people = [[7,0],[4,4],[7,1],[5,0],[6,1],[5,2]]\n",
    "a = Solution()\n",
    "a.reconstructQueue(people)   "
   ]
  },
  {
   "cell_type": "code",
   "execution_count": 15,
   "id": "c4256b8f-6cd2-4c2a-90b0-1a618f39f10d",
   "metadata": {
    "execution": {
     "iopub.execute_input": "2023-06-24T04:14:53.181544Z",
     "iopub.status.busy": "2023-06-24T04:14:53.181544Z",
     "iopub.status.idle": "2023-06-24T04:14:53.187449Z",
     "shell.execute_reply": "2023-06-24T04:14:53.187449Z",
     "shell.execute_reply.started": "2023-06-24T04:14:53.181544Z"
    },
    "tags": []
   },
   "outputs": [
    {
     "data": {
      "text/plain": [
       "[[7, 0], [5, 0], [7, 1], [5, 2], [6, 1], [4, 4]]"
      ]
     },
     "execution_count": 15,
     "metadata": {},
     "output_type": "execute_result"
    }
   ],
   "source": [
    "a =  [[7,0],[4,4],[7,1],[5,0],[6,1],[5,2]]\n",
    "result=[]\n",
    "while a:\n",
    "    person = a.pop()\n",
    "    result.insert(person[1], [person[0], person[1]])\n",
    "result"
   ]
  },
  {
   "cell_type": "markdown",
   "id": "49083fec-56da-417f-92b6-a22d01f92630",
   "metadata": {},
   "source": [
    "## 22장 다이나믹 프로그래밍\n",
    "\n",
    "https://blog.naver.com/ehrtk2002/223109461423\n",
    "\n",
    "Dynamic Programming은 전체 문제를 여러 개의 하위 문제로 나누어 풀고, 하위 문제들의 해결 방법들을 결합하여 최종 문제를 해결하는 문제 해결 방식이다.\n",
    "\n",
    "다이나믹 프로그래밍은 어려운 편이기 때문에 기본 문제인 피보나치 수열 문제가 주로 나옴"
   ]
  },
  {
   "cell_type": "code",
   "execution_count": 16,
   "id": "efdf0133-16de-49a4-a3d7-cc693eac3fe8",
   "metadata": {
    "execution": {
     "iopub.execute_input": "2023-05-30T00:48:51.500025Z",
     "iopub.status.busy": "2023-05-30T00:48:51.499025Z",
     "iopub.status.idle": "2023-05-30T00:48:51.507124Z",
     "shell.execute_reply": "2023-05-30T00:48:51.507124Z",
     "shell.execute_reply.started": "2023-05-30T00:48:51.500025Z"
    },
    "tags": []
   },
   "outputs": [
    {
     "data": {
      "text/plain": [
       "5"
      ]
     },
     "execution_count": 16,
     "metadata": {},
     "output_type": "execute_result"
    }
   ],
   "source": [
    "# https://leetcode.com/problems/fibonacci-number/\n",
    "# 22장 85) 피보나치 수  (easy)\n",
    "\n",
    "import collections\n",
    "class Solution:\n",
    "    \n",
    "    # 1. 재귀 구조 브루트 포스\n",
    "    # def fib(self, N: int) -> int:\n",
    "    #     if N <= 1:\n",
    "    #         return N\n",
    "    #     return self.fib(N - 1) + self.fib(N - 2)\n",
    "    \n",
    "    # 2. 메모이제이션(하향식)\n",
    "    dp = collections.defaultdict(int)\n",
    "    def fib(self, N: int) -> int:\n",
    "        if N <= 1:\n",
    "            return N\n",
    "\n",
    "        if self.dp[N]:\n",
    "            return self.dp[N]\n",
    "        self.dp[N] = self.fib(N - 1) + self.fib(N - 2)\n",
    "        return self.dp[N]\n",
    "    \n",
    "#     # 3. 타뷸레이션(상향식)\n",
    "#     dp = collections.defaultdict(int)\n",
    "#     def fib(self, N: int) -> int:\n",
    "#         self.dp[0] = 0\n",
    "#         self.dp[1] = 1\n",
    "\n",
    "#         for i in range(2, N + 1):\n",
    "#             self.dp[i] = self.dp[i - 1] + self.dp[i - 2]\n",
    "#         return self.dp[N]\n",
    "    \n",
    "#     # 4. 공간 절약 방법\n",
    "#     def fib(self, N: int) -> int:\n",
    "#         x, y = 0, 1\n",
    "#         for i in range(0, N):\n",
    "#             x, y = y, x + y\n",
    "#         return x\n",
    "    \n",
    "n = 5\n",
    "a = Solution()\n",
    "a.fib(n)     "
   ]
  },
  {
   "cell_type": "code",
   "execution_count": 23,
   "id": "8d03dd20-1e82-477f-8a77-43136814f246",
   "metadata": {
    "execution": {
     "iopub.execute_input": "2023-05-30T01:00:38.259835Z",
     "iopub.status.busy": "2023-05-30T01:00:38.259835Z",
     "iopub.status.idle": "2023-05-30T01:00:38.267769Z",
     "shell.execute_reply": "2023-05-30T01:00:38.267769Z",
     "shell.execute_reply.started": "2023-05-30T01:00:38.259835Z"
    },
    "tags": []
   },
   "outputs": [
    {
     "data": {
      "text/plain": [
       "8"
      ]
     },
     "execution_count": 23,
     "metadata": {},
     "output_type": "execute_result"
    }
   ],
   "source": [
    "# https://leetcode.com/problems/climbing-stairs/\n",
    "# 22장 87) 계단 오르기  (easy)\n",
    "\n",
    "import collections\n",
    "class Solution:\n",
    "    \n",
    "    # 메모리제이션\n",
    "    dict1 = collections.defaultdict(int)\n",
    "    def climbStairs(self, n: int) -> int:\n",
    "        \n",
    "        if n<=2:\n",
    "            return n\n",
    "        if self.dict1[n]:\n",
    "            return self.dict1[n]\n",
    "        \n",
    "        self.dict1[n] = self.climbStairs(n-1)+ self.climbStairs(n-2)\n",
    "        \n",
    "        return self.dict1[n]\n",
    "    \n",
    "    # 타뷸레이션\n",
    "    dp = collections.defaultdict(int)\n",
    "    def fib(self, N: int) -> int:\n",
    "        self.dp[0] = 0\n",
    "        self.dp[1] = 1\n",
    "        self.dp[2] = 2\n",
    "\n",
    "        for i in range(3, N + 1):\n",
    "            self.dp[i] = self.dp[i - 1] + self.dp[i - 2]\n",
    "        return self.dp[N]\n",
    "n = 5\n",
    "a = Solution()\n",
    "a.fib(n)     "
   ]
  }
 ],
 "metadata": {
  "kernelspec": {
   "display_name": "Python 3 (ipykernel)",
   "language": "python",
   "name": "python3"
  },
  "language_info": {
   "codemirror_mode": {
    "name": "ipython",
    "version": 3
   },
   "file_extension": ".py",
   "mimetype": "text/x-python",
   "name": "python",
   "nbconvert_exporter": "python",
   "pygments_lexer": "ipython3",
   "version": "3.11.3"
  }
 },
 "nbformat": 4,
 "nbformat_minor": 5
}
