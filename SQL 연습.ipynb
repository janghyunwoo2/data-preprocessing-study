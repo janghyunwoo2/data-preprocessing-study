{
 "cells": [
  {
   "cell_type": "markdown",
   "id": "838731c3-b21b-4d71-8c37-4b053c9bcfd5",
   "metadata": {},
   "source": [
    "https://blog.naver.com/ehrtk2002/221928574758\n",
    "\n",
    "예전에 SQl 연습문제 푼거 쥬피터로 옴겨옴\n"
   ]
  },
  {
   "cell_type": "code",
   "execution_count": 6,
   "id": "e28f62b3-22bc-4106-beee-7071d8bb39fa",
   "metadata": {
    "collapsed": true,
    "execution": {
     "iopub.execute_input": "2023-04-27T08:43:29.005733Z",
     "iopub.status.busy": "2023-04-27T08:43:29.004731Z",
     "iopub.status.idle": "2023-04-27T08:43:37.574915Z",
     "shell.execute_reply": "2023-04-27T08:43:37.574915Z",
     "shell.execute_reply.started": "2023-04-27T08:43:29.005733Z"
    },
    "jupyter": {
     "outputs_hidden": true
    },
    "tags": []
   },
   "outputs": [
    {
     "name": "stdout",
     "output_type": "stream",
     "text": [
      "Collecting ipython-sql\n",
      "  Downloading ipython_sql-0.5.0-py3-none-any.whl (20 kB)\n",
      "Collecting prettytable (from ipython-sql)\n",
      "  Downloading prettytable-3.7.0-py3-none-any.whl (27 kB)\n",
      "Requirement already satisfied: ipython in c:\\users\\jang_home\\python311\\lib\\site-packages (from ipython-sql) (8.12.0)\n",
      "Collecting sqlalchemy>=2.0 (from ipython-sql)\n",
      "  Downloading SQLAlchemy-2.0.11-cp311-cp311-win_amd64.whl (2.0 MB)\n",
      "                                              0.0/2.0 MB ? eta -:--:--\n",
      "     ---------------------------------------  2.0/2.0 MB 61.1 MB/s eta 0:00:01\n",
      "     ---------------------------------------- 2.0/2.0 MB 41.6 MB/s eta 0:00:00\n",
      "Collecting sqlparse (from ipython-sql)\n",
      "  Downloading sqlparse-0.4.4-py3-none-any.whl (41 kB)\n",
      "                                              0.0/41.2 kB ? eta -:--:--\n",
      "     ---------------------------------------- 41.2/41.2 kB ? eta 0:00:00\n",
      "Requirement already satisfied: six in c:\\users\\jang_home\\python311\\lib\\site-packages (from ipython-sql) (1.16.0)\n",
      "Requirement already satisfied: ipython-genutils in c:\\users\\jang_home\\python311\\lib\\site-packages (from ipython-sql) (0.2.0)\n",
      "Collecting typing-extensions>=4.2.0 (from sqlalchemy>=2.0->ipython-sql)\n",
      "  Using cached typing_extensions-4.5.0-py3-none-any.whl (27 kB)\n",
      "Collecting greenlet!=0.4.17 (from sqlalchemy>=2.0->ipython-sql)\n",
      "  Downloading greenlet-2.0.2-cp311-cp311-win_amd64.whl (192 kB)\n",
      "                                              0.0/192.5 kB ? eta -:--:--\n",
      "     ------------------------------------- 192.5/192.5 kB 11.4 MB/s eta 0:00:00\n",
      "Requirement already satisfied: backcall in c:\\users\\jang_home\\python311\\lib\\site-packages (from ipython->ipython-sql) (0.2.0)\n",
      "Requirement already satisfied: decorator in c:\\users\\jang_home\\python311\\lib\\site-packages (from ipython->ipython-sql) (5.1.1)\n",
      "Requirement already satisfied: jedi>=0.16 in c:\\users\\jang_home\\python311\\lib\\site-packages (from ipython->ipython-sql) (0.18.2)\n",
      "Requirement already satisfied: matplotlib-inline in c:\\users\\jang_home\\python311\\lib\\site-packages (from ipython->ipython-sql) (0.1.6)\n",
      "Requirement already satisfied: pickleshare in c:\\users\\jang_home\\python311\\lib\\site-packages (from ipython->ipython-sql) (0.7.5)\n",
      "Requirement already satisfied: prompt-toolkit!=3.0.37,<3.1.0,>=3.0.30 in c:\\users\\jang_home\\python311\\lib\\site-packages (from ipython->ipython-sql) (3.0.38)\n",
      "Requirement already satisfied: pygments>=2.4.0 in c:\\users\\jang_home\\python311\\lib\\site-packages (from ipython->ipython-sql) (2.15.1)\n",
      "Requirement already satisfied: stack-data in c:\\users\\jang_home\\python311\\lib\\site-packages (from ipython->ipython-sql) (0.6.2)\n",
      "Requirement already satisfied: traitlets>=5 in c:\\users\\jang_home\\python311\\lib\\site-packages (from ipython->ipython-sql) (5.9.0)\n",
      "Requirement already satisfied: colorama in c:\\users\\jang_home\\python311\\lib\\site-packages (from ipython->ipython-sql) (0.4.6)\n",
      "Requirement already satisfied: wcwidth in c:\\users\\jang_home\\python311\\lib\\site-packages (from prettytable->ipython-sql) (0.2.6)\n",
      "Requirement already satisfied: parso<0.9.0,>=0.8.0 in c:\\users\\jang_home\\python311\\lib\\site-packages (from jedi>=0.16->ipython->ipython-sql) (0.8.3)\n",
      "Requirement already satisfied: executing>=1.2.0 in c:\\users\\jang_home\\python311\\lib\\site-packages (from stack-data->ipython->ipython-sql) (1.2.0)\n",
      "Requirement already satisfied: asttokens>=2.1.0 in c:\\users\\jang_home\\python311\\lib\\site-packages (from stack-data->ipython->ipython-sql) (2.2.1)\n",
      "Requirement already satisfied: pure-eval in c:\\users\\jang_home\\python311\\lib\\site-packages (from stack-data->ipython->ipython-sql) (0.2.2)\n",
      "Installing collected packages: typing-extensions, sqlparse, prettytable, greenlet, sqlalchemy, ipython-sql\n",
      "Successfully installed greenlet-2.0.2 ipython-sql-0.5.0 prettytable-3.7.0 sqlalchemy-2.0.11 sqlparse-0.4.4 typing-extensions-4.5.0\n"
     ]
    }
   ],
   "source": [
    "!pip install ipython-sql"
   ]
  },
  {
   "cell_type": "code",
   "execution_count": 2,
   "id": "da9b2c89-aee7-49b6-8300-a0fed2eb95e3",
   "metadata": {
    "execution": {
     "iopub.execute_input": "2023-07-27T03:19:10.791066Z",
     "iopub.status.busy": "2023-07-27T03:19:10.790066Z",
     "iopub.status.idle": "2023-07-27T03:19:13.449120Z",
     "shell.execute_reply": "2023-07-27T03:19:13.449120Z",
     "shell.execute_reply.started": "2023-07-27T03:19:10.791066Z"
    },
    "tags": []
   },
   "outputs": [],
   "source": [
    "%load_ext sql\n",
    "%sql sqlite:///example2.db"
   ]
  },
  {
   "cell_type": "code",
   "execution_count": 2,
   "id": "5e960bd4-539b-455e-b2b3-765d99665be6",
   "metadata": {
    "execution": {
     "iopub.execute_input": "2023-07-07T05:04:16.954706Z",
     "iopub.status.busy": "2023-07-07T05:04:16.953707Z",
     "iopub.status.idle": "2023-07-07T05:04:16.982329Z",
     "shell.execute_reply": "2023-07-07T05:04:16.981329Z",
     "shell.execute_reply.started": "2023-07-07T05:04:16.954706Z"
    },
    "tags": []
   },
   "outputs": [
    {
     "name": "stdout",
     "output_type": "stream",
     "text": [
      " * sqlite:///example2.db\n",
      "(sqlite3.OperationalError) table DEPT already exists\n",
      "[SQL: CREATE TABLE DEPT (\n",
      "    DEPTNO DECIMAL(2),\n",
      "    DNAME VARCHAR(14),\n",
      "    LOC VARCHAR(13),\n",
      "    CONSTRAINT PK_DEPT PRIMARY KEY (DEPTNO) \n",
      ");]\n",
      "(Background on this error at: https://sqlalche.me/e/20/e3q8)\n"
     ]
    }
   ],
   "source": [
    "%%sql\n",
    "CREATE TABLE DEPT (\n",
    "    DEPTNO DECIMAL(2),\n",
    "    DNAME VARCHAR(14),\n",
    "    LOC VARCHAR(13),\n",
    "    CONSTRAINT PK_DEPT PRIMARY KEY (DEPTNO) \n",
    ");\n",
    "CREATE TABLE EMP (\n",
    "    EMPNO DECIMAL(4),\n",
    "    ENAME VARCHAR(10),\n",
    "    JOB VARCHAR(9),\n",
    "    MGR DECIMAL(4),\n",
    "    HIREDATE DATE,\n",
    "    SAL DECIMAL(7,2),\n",
    "    COMM DECIMAL(7,2),\n",
    "    DEPTNO DECIMAL(2),\n",
    "    CONSTRAINT PK_EMP PRIMARY KEY (EMPNO),\n",
    "    CONSTRAINT FK_DEPTNO FOREIGN KEY (DEPTNO) REFERENCES DEPT(DEPTNO)\n",
    ");\n",
    "CREATE TABLE SALGRADE ( \n",
    "    GRADE TINYINT,\n",
    "    LOSAL SMALLINT,\n",
    "    HISAL SMALLINT \n",
    ");\n",
    "INSERT INTO DEPT VALUES (10,'ACCOUNTING','NEW YORK');\n",
    "INSERT INTO DEPT VALUES (20,'RESEARCH','DALLAS');\n",
    "INSERT INTO DEPT VALUES (30,'SALES','CHICAGO');\n",
    "INSERT INTO DEPT VALUES (40,'OPERATIONS','BOSTON');\n",
    "INSERT INTO EMP VALUES (7369,'SMITH','CLERK',7902,strftime('%Y-%m-%d','1980-12-17'),800,NULL,20);\n",
    "INSERT INTO EMP VALUES (7499,'ALLEN','SALESMAN',7698,strftime('%Y-%m-%d','1981-02-20'),1600,300,30);\n",
    "INSERT INTO EMP VALUES (7521,'WARD','SALESMAN',7698,strftime('%Y-%m-%d','1981-02-22'),1250,500,30);\n",
    "INSERT INTO EMP VALUES (7566,'JONES','MANAGER',7839,strftime('%Y-%m-%d','1981-04-02'),2975,NULL,20);\n",
    "INSERT INTO EMP VALUES (7654,'MARTIN','SALESMAN',7698,strftime('%Y-%m-%d','1981-09-28'),1250,1400,30);\n",
    "INSERT INTO EMP VALUES (7698,'BLAKE','MANAGER',7839,strftime('%Y-%m-%d','1981-06-01'),2850,NULL,30);\n",
    "INSERT INTO EMP VALUES (7782,'CLARK','MANAGER',7839,strftime('%Y-%m-%d','1981-06-09'),2450,NULL,10);\n",
    "INSERT INTO EMP VALUES (7788,'SCOTT','ANALYST',7566,strftime('%Y-%m-%d','1987-07-13'),3000,NULL,20);\n",
    "INSERT INTO EMP VALUES (7839,'KING','PRESIDENT',NULL,strftime('%Y-%m-%d','1981-11-17'),5000,NULL,10);\n",
    "INSERT INTO EMP VALUES (7844,'TURNER','SALESMAN',7698,strftime('%Y-%m-%d','1981-09-08'),1500,0,30);\n",
    "INSERT INTO EMP VALUES (7876,'ADAMS','CLERK',7788,strftime('%Y-%m-%d','1987-07-13'),1100,NULL,20);\n",
    "INSERT INTO EMP VALUES (7900,'JAMES','CLERK',7698,strftime('%Y-%m-%d','1981-12-03'),950,NULL,30);\n",
    "INSERT INTO EMP VALUES (7902,'FORD','ANALYST',7566,strftime('%Y-%m-%d','1981-12-03'),3000,NULL,20);\n",
    "INSERT INTO EMP VALUES (7934,'MILLER','CLERK',7782,strftime('%Y-%m-%d','1982-01-23'),1300,NULL,10);\n",
    "INSERT INTO SALGRADE VALUES (1,700,1200);\n",
    "INSERT INTO SALGRADE VALUES (2,1201,1400);\n",
    "INSERT INTO SALGRADE VALUES (3,1401,2000);\n",
    "INSERT INTO SALGRADE VALUES (4,2001,3000);\n",
    "INSERT INTO SALGRADE VALUES (5,3001,9999);\n"
   ]
  },
  {
   "cell_type": "code",
   "execution_count": 3,
   "id": "5bc9fae3-4077-4b34-9ed7-f227b88dbafc",
   "metadata": {
    "execution": {
     "iopub.execute_input": "2023-07-27T03:19:17.561974Z",
     "iopub.status.busy": "2023-07-27T03:19:17.561974Z",
     "iopub.status.idle": "2023-07-27T03:19:17.576578Z",
     "shell.execute_reply": "2023-07-27T03:19:17.576578Z",
     "shell.execute_reply.started": "2023-07-27T03:19:17.561974Z"
    },
    "tags": []
   },
   "outputs": [
    {
     "name": "stdout",
     "output_type": "stream",
     "text": [
      " * sqlite:///example2.db\n",
      "Done.\n"
     ]
    },
    {
     "data": {
      "text/html": [
       "<table>\n",
       "    <thead>\n",
       "        <tr>\n",
       "            <th>DEPTNO</th>\n",
       "            <th>DNAME</th>\n",
       "            <th>LOC</th>\n",
       "        </tr>\n",
       "    </thead>\n",
       "    <tbody>\n",
       "        <tr>\n",
       "            <td>10</td>\n",
       "            <td>ACCOUNTING</td>\n",
       "            <td>NEW YORK</td>\n",
       "        </tr>\n",
       "        <tr>\n",
       "            <td>20</td>\n",
       "            <td>RESEARCH</td>\n",
       "            <td>DALLAS</td>\n",
       "        </tr>\n",
       "        <tr>\n",
       "            <td>30</td>\n",
       "            <td>SALES</td>\n",
       "            <td>CHICAGO</td>\n",
       "        </tr>\n",
       "        <tr>\n",
       "            <td>40</td>\n",
       "            <td>OPERATIONS</td>\n",
       "            <td>BOSTON</td>\n",
       "        </tr>\n",
       "    </tbody>\n",
       "</table>"
      ],
      "text/plain": [
       "[(10, 'ACCOUNTING', 'NEW YORK'),\n",
       " (20, 'RESEARCH', 'DALLAS'),\n",
       " (30, 'SALES', 'CHICAGO'),\n",
       " (40, 'OPERATIONS', 'BOSTON')]"
      ]
     },
     "execution_count": 3,
     "metadata": {},
     "output_type": "execute_result"
    }
   ],
   "source": [
    "%sql SELECT * FROM dept;"
   ]
  },
  {
   "cell_type": "code",
   "execution_count": 8,
   "id": "a6efc53a-8539-450b-afe5-9142a5484703",
   "metadata": {
    "execution": {
     "iopub.execute_input": "2023-04-27T09:37:09.962836Z",
     "iopub.status.busy": "2023-04-27T09:37:09.962836Z",
     "iopub.status.idle": "2023-04-27T09:37:09.971028Z",
     "shell.execute_reply": "2023-04-27T09:37:09.970032Z",
     "shell.execute_reply.started": "2023-04-27T09:37:09.962836Z"
    },
    "tags": []
   },
   "outputs": [
    {
     "name": "stdout",
     "output_type": "stream",
     "text": [
      " * sqlite:///example2.db\n",
      "Done.\n"
     ]
    },
    {
     "data": {
      "text/html": [
       "<table>\n",
       "    <thead>\n",
       "        <tr>\n",
       "            <th>EMPNO</th>\n",
       "            <th>ENAME</th>\n",
       "            <th>JOB</th>\n",
       "            <th>MGR</th>\n",
       "            <th>HIREDATE</th>\n",
       "            <th>SAL</th>\n",
       "            <th>COMM</th>\n",
       "            <th>DEPTNO</th>\n",
       "        </tr>\n",
       "    </thead>\n",
       "    <tbody>\n",
       "        <tr>\n",
       "            <td>7499</td>\n",
       "            <td>ALLEN</td>\n",
       "            <td>SALESMAN</td>\n",
       "            <td>7698</td>\n",
       "            <td>None</td>\n",
       "            <td>1600</td>\n",
       "            <td>300</td>\n",
       "            <td>30</td>\n",
       "        </tr>\n",
       "    </tbody>\n",
       "</table>"
      ],
      "text/plain": [
       "[(7499, 'ALLEN', 'SALESMAN', 7698, None, 1600, 300, 30)]"
      ]
     },
     "execution_count": 8,
     "metadata": {},
     "output_type": "execute_result"
    }
   ],
   "source": [
    "%sql SELECT * FROM EMP where empno=7499;"
   ]
  },
  {
   "cell_type": "code",
   "execution_count": 7,
   "id": "561a5045-6fe9-4cd3-91e3-abad1b8fada6",
   "metadata": {
    "execution": {
     "iopub.execute_input": "2023-07-27T03:24:26.721144Z",
     "iopub.status.busy": "2023-07-27T03:24:26.721144Z",
     "iopub.status.idle": "2023-07-27T03:24:26.730838Z",
     "shell.execute_reply": "2023-07-27T03:24:26.729842Z",
     "shell.execute_reply.started": "2023-07-27T03:24:26.721144Z"
    },
    "tags": []
   },
   "outputs": [
    {
     "name": "stdout",
     "output_type": "stream",
     "text": [
      " * sqlite:///example2.db\n",
      "Done.\n"
     ]
    },
    {
     "data": {
      "text/html": [
       "<table>\n",
       "    <thead>\n",
       "        <tr>\n",
       "            <th>EMPNO</th>\n",
       "            <th>ENAME</th>\n",
       "            <th>JOB</th>\n",
       "            <th>MGR</th>\n",
       "            <th>HIREDATE</th>\n",
       "            <th>SAL</th>\n",
       "            <th>COMM</th>\n",
       "            <th>DEPTNO</th>\n",
       "        </tr>\n",
       "    </thead>\n",
       "    <tbody>\n",
       "        <tr>\n",
       "            <td>7369</td>\n",
       "            <td>SMITH</td>\n",
       "            <td>CLERK</td>\n",
       "            <td>7902</td>\n",
       "            <td>1980-12-17</td>\n",
       "            <td>800</td>\n",
       "            <td>None</td>\n",
       "            <td>20</td>\n",
       "        </tr>\n",
       "        <tr>\n",
       "            <td>7499</td>\n",
       "            <td>ALLEN</td>\n",
       "            <td>SALESMAN</td>\n",
       "            <td>7698</td>\n",
       "            <td>1981-02-20</td>\n",
       "            <td>1600</td>\n",
       "            <td>300</td>\n",
       "            <td>30</td>\n",
       "        </tr>\n",
       "        <tr>\n",
       "            <td>7521</td>\n",
       "            <td>WARD</td>\n",
       "            <td>SALESMAN</td>\n",
       "            <td>7698</td>\n",
       "            <td>1981-02-22</td>\n",
       "            <td>1250</td>\n",
       "            <td>500</td>\n",
       "            <td>30</td>\n",
       "        </tr>\n",
       "        <tr>\n",
       "            <td>7566</td>\n",
       "            <td>JONES</td>\n",
       "            <td>MANAGER</td>\n",
       "            <td>7839</td>\n",
       "            <td>1981-04-02</td>\n",
       "            <td>2975</td>\n",
       "            <td>None</td>\n",
       "            <td>20</td>\n",
       "        </tr>\n",
       "        <tr>\n",
       "            <td>7654</td>\n",
       "            <td>MARTIN</td>\n",
       "            <td>SALESMAN</td>\n",
       "            <td>7698</td>\n",
       "            <td>1981-09-28</td>\n",
       "            <td>1250</td>\n",
       "            <td>1400</td>\n",
       "            <td>30</td>\n",
       "        </tr>\n",
       "        <tr>\n",
       "            <td>7698</td>\n",
       "            <td>BLAKE</td>\n",
       "            <td>MANAGER</td>\n",
       "            <td>7839</td>\n",
       "            <td>1981-06-01</td>\n",
       "            <td>2850</td>\n",
       "            <td>None</td>\n",
       "            <td>30</td>\n",
       "        </tr>\n",
       "        <tr>\n",
       "            <td>7782</td>\n",
       "            <td>CLARK</td>\n",
       "            <td>MANAGER</td>\n",
       "            <td>7839</td>\n",
       "            <td>1981-06-09</td>\n",
       "            <td>2450</td>\n",
       "            <td>None</td>\n",
       "            <td>10</td>\n",
       "        </tr>\n",
       "        <tr>\n",
       "            <td>7788</td>\n",
       "            <td>SCOTT</td>\n",
       "            <td>ANALYST</td>\n",
       "            <td>7566</td>\n",
       "            <td>1987-07-13</td>\n",
       "            <td>3000</td>\n",
       "            <td>None</td>\n",
       "            <td>20</td>\n",
       "        </tr>\n",
       "        <tr>\n",
       "            <td>7839</td>\n",
       "            <td>KING</td>\n",
       "            <td>PRESIDENT</td>\n",
       "            <td>None</td>\n",
       "            <td>1981-11-17</td>\n",
       "            <td>5000</td>\n",
       "            <td>None</td>\n",
       "            <td>10</td>\n",
       "        </tr>\n",
       "        <tr>\n",
       "            <td>7844</td>\n",
       "            <td>TURNER</td>\n",
       "            <td>SALESMAN</td>\n",
       "            <td>7698</td>\n",
       "            <td>1981-09-08</td>\n",
       "            <td>1500</td>\n",
       "            <td>0</td>\n",
       "            <td>30</td>\n",
       "        </tr>\n",
       "        <tr>\n",
       "            <td>7876</td>\n",
       "            <td>ADAMS</td>\n",
       "            <td>CLERK</td>\n",
       "            <td>7788</td>\n",
       "            <td>1987-07-13</td>\n",
       "            <td>1100</td>\n",
       "            <td>None</td>\n",
       "            <td>20</td>\n",
       "        </tr>\n",
       "        <tr>\n",
       "            <td>7900</td>\n",
       "            <td>JAMES</td>\n",
       "            <td>CLERK</td>\n",
       "            <td>7698</td>\n",
       "            <td>1981-12-03</td>\n",
       "            <td>950</td>\n",
       "            <td>None</td>\n",
       "            <td>30</td>\n",
       "        </tr>\n",
       "        <tr>\n",
       "            <td>7902</td>\n",
       "            <td>FORD</td>\n",
       "            <td>ANALYST</td>\n",
       "            <td>7566</td>\n",
       "            <td>1981-12-03</td>\n",
       "            <td>3000</td>\n",
       "            <td>None</td>\n",
       "            <td>20</td>\n",
       "        </tr>\n",
       "        <tr>\n",
       "            <td>7934</td>\n",
       "            <td>MILLER</td>\n",
       "            <td>CLERK</td>\n",
       "            <td>7782</td>\n",
       "            <td>1982-01-23</td>\n",
       "            <td>1300</td>\n",
       "            <td>None</td>\n",
       "            <td>10</td>\n",
       "        </tr>\n",
       "    </tbody>\n",
       "</table>"
      ],
      "text/plain": [
       "[(7369, 'SMITH', 'CLERK', 7902, '1980-12-17', 800, None, 20),\n",
       " (7499, 'ALLEN', 'SALESMAN', 7698, '1981-02-20', 1600, 300, 30),\n",
       " (7521, 'WARD', 'SALESMAN', 7698, '1981-02-22', 1250, 500, 30),\n",
       " (7566, 'JONES', 'MANAGER', 7839, '1981-04-02', 2975, None, 20),\n",
       " (7654, 'MARTIN', 'SALESMAN', 7698, '1981-09-28', 1250, 1400, 30),\n",
       " (7698, 'BLAKE', 'MANAGER', 7839, '1981-06-01', 2850, None, 30),\n",
       " (7782, 'CLARK', 'MANAGER', 7839, '1981-06-09', 2450, None, 10),\n",
       " (7788, 'SCOTT', 'ANALYST', 7566, '1987-07-13', 3000, None, 20),\n",
       " (7839, 'KING', 'PRESIDENT', None, '1981-11-17', 5000, None, 10),\n",
       " (7844, 'TURNER', 'SALESMAN', 7698, '1981-09-08', 1500, 0, 30),\n",
       " (7876, 'ADAMS', 'CLERK', 7788, '1987-07-13', 1100, None, 20),\n",
       " (7900, 'JAMES', 'CLERK', 7698, '1981-12-03', 950, None, 30),\n",
       " (7902, 'FORD', 'ANALYST', 7566, '1981-12-03', 3000, None, 20),\n",
       " (7934, 'MILLER', 'CLERK', 7782, '1982-01-23', 1300, None, 10)]"
      ]
     },
     "execution_count": 7,
     "metadata": {},
     "output_type": "execute_result"
    }
   ],
   "source": [
    "%sql SELECT * FROM EMP"
   ]
  },
  {
   "cell_type": "code",
   "execution_count": 6,
   "id": "2d938f63-1396-4abd-bbbe-afcbecd384e4",
   "metadata": {
    "execution": {
     "iopub.execute_input": "2023-04-27T09:39:44.818759Z",
     "iopub.status.busy": "2023-04-27T09:39:44.818759Z",
     "iopub.status.idle": "2023-04-27T09:39:44.826021Z",
     "shell.execute_reply": "2023-04-27T09:39:44.826021Z",
     "shell.execute_reply.started": "2023-04-27T09:39:44.818759Z"
    },
    "tags": []
   },
   "outputs": [
    {
     "name": "stdout",
     "output_type": "stream",
     "text": [
      " * sqlite:///example2.db\n",
      "Done.\n"
     ]
    },
    {
     "data": {
      "text/html": [
       "<table>\n",
       "    <thead>\n",
       "        <tr>\n",
       "            <th>GRADE</th>\n",
       "            <th>LOSAL</th>\n",
       "            <th>HISAL</th>\n",
       "        </tr>\n",
       "    </thead>\n",
       "    <tbody>\n",
       "        <tr>\n",
       "            <td>1</td>\n",
       "            <td>700</td>\n",
       "            <td>1200</td>\n",
       "        </tr>\n",
       "        <tr>\n",
       "            <td>2</td>\n",
       "            <td>1201</td>\n",
       "            <td>1400</td>\n",
       "        </tr>\n",
       "        <tr>\n",
       "            <td>3</td>\n",
       "            <td>1401</td>\n",
       "            <td>2000</td>\n",
       "        </tr>\n",
       "        <tr>\n",
       "            <td>4</td>\n",
       "            <td>2001</td>\n",
       "            <td>3000</td>\n",
       "        </tr>\n",
       "        <tr>\n",
       "            <td>5</td>\n",
       "            <td>3001</td>\n",
       "            <td>9999</td>\n",
       "        </tr>\n",
       "    </tbody>\n",
       "</table>"
      ],
      "text/plain": [
       "[(1, 700, 1200),\n",
       " (2, 1201, 1400),\n",
       " (3, 1401, 2000),\n",
       " (4, 2001, 3000),\n",
       " (5, 3001, 9999)]"
      ]
     },
     "execution_count": 6,
     "metadata": {},
     "output_type": "execute_result"
    }
   ],
   "source": [
    "%sql SELECT * FROM SALGRADE;"
   ]
  },
  {
   "cell_type": "code",
   "execution_count": 36,
   "id": "52320b08-f8b7-4325-95c1-81483850027e",
   "metadata": {
    "execution": {
     "iopub.execute_input": "2023-04-27T10:03:58.634006Z",
     "iopub.status.busy": "2023-04-27T10:03:58.633006Z",
     "iopub.status.idle": "2023-04-27T10:03:58.657023Z",
     "shell.execute_reply": "2023-04-27T10:03:58.656023Z",
     "shell.execute_reply.started": "2023-04-27T10:03:58.634006Z"
    },
    "tags": []
   },
   "outputs": [
    {
     "name": "stdout",
     "output_type": "stream",
     "text": [
      " * sqlite:///example2.db\n",
      "Done.\n"
     ]
    },
    {
     "data": {
      "text/html": [
       "<div>\n",
       "<style scoped>\n",
       "    .dataframe tbody tr th:only-of-type {\n",
       "        vertical-align: middle;\n",
       "    }\n",
       "\n",
       "    .dataframe tbody tr th {\n",
       "        vertical-align: top;\n",
       "    }\n",
       "\n",
       "    .dataframe thead th {\n",
       "        text-align: right;\n",
       "    }\n",
       "</style>\n",
       "<table border=\"1\" class=\"dataframe\">\n",
       "  <thead>\n",
       "    <tr style=\"text-align: right;\">\n",
       "      <th></th>\n",
       "      <th>ENAME</th>\n",
       "      <th>HIREDATE</th>\n",
       "    </tr>\n",
       "  </thead>\n",
       "  <tbody>\n",
       "    <tr>\n",
       "      <th>0</th>\n",
       "      <td>SMITH</td>\n",
       "      <td>1980-12-17</td>\n",
       "    </tr>\n",
       "    <tr>\n",
       "      <th>1</th>\n",
       "      <td>ALLEN</td>\n",
       "      <td>1981-02-20</td>\n",
       "    </tr>\n",
       "    <tr>\n",
       "      <th>2</th>\n",
       "      <td>WARD</td>\n",
       "      <td>1981-02-22</td>\n",
       "    </tr>\n",
       "    <tr>\n",
       "      <th>3</th>\n",
       "      <td>JONES</td>\n",
       "      <td>1981-04-02</td>\n",
       "    </tr>\n",
       "    <tr>\n",
       "      <th>4</th>\n",
       "      <td>MARTIN</td>\n",
       "      <td>1981-09-28</td>\n",
       "    </tr>\n",
       "    <tr>\n",
       "      <th>5</th>\n",
       "      <td>BLAKE</td>\n",
       "      <td>1981-06-01</td>\n",
       "    </tr>\n",
       "    <tr>\n",
       "      <th>6</th>\n",
       "      <td>CLARK</td>\n",
       "      <td>1981-06-09</td>\n",
       "    </tr>\n",
       "    <tr>\n",
       "      <th>7</th>\n",
       "      <td>SCOTT</td>\n",
       "      <td>1987-07-13</td>\n",
       "    </tr>\n",
       "    <tr>\n",
       "      <th>8</th>\n",
       "      <td>KING</td>\n",
       "      <td>1981-11-17</td>\n",
       "    </tr>\n",
       "    <tr>\n",
       "      <th>9</th>\n",
       "      <td>TURNER</td>\n",
       "      <td>1981-09-08</td>\n",
       "    </tr>\n",
       "    <tr>\n",
       "      <th>10</th>\n",
       "      <td>ADAMS</td>\n",
       "      <td>1987-07-13</td>\n",
       "    </tr>\n",
       "    <tr>\n",
       "      <th>11</th>\n",
       "      <td>JAMES</td>\n",
       "      <td>1981-12-03</td>\n",
       "    </tr>\n",
       "    <tr>\n",
       "      <th>12</th>\n",
       "      <td>FORD</td>\n",
       "      <td>1981-12-03</td>\n",
       "    </tr>\n",
       "    <tr>\n",
       "      <th>13</th>\n",
       "      <td>MILLER</td>\n",
       "      <td>1982-01-23</td>\n",
       "    </tr>\n",
       "  </tbody>\n",
       "</table>\n",
       "</div>"
      ],
      "text/plain": [
       "     ENAME    HIREDATE\n",
       "0    SMITH  1980-12-17\n",
       "1    ALLEN  1981-02-20\n",
       "2     WARD  1981-02-22\n",
       "3    JONES  1981-04-02\n",
       "4   MARTIN  1981-09-28\n",
       "5    BLAKE  1981-06-01\n",
       "6    CLARK  1981-06-09\n",
       "7    SCOTT  1987-07-13\n",
       "8     KING  1981-11-17\n",
       "9   TURNER  1981-09-08\n",
       "10   ADAMS  1987-07-13\n",
       "11   JAMES  1981-12-03\n",
       "12    FORD  1981-12-03\n",
       "13  MILLER  1982-01-23"
      ]
     },
     "execution_count": 36,
     "metadata": {},
     "output_type": "execute_result"
    }
   ],
   "source": [
    "# 데이터프레임으로 변경\n",
    "import pandas as pd\n",
    "\n",
    "result = %sql SELECT ENAME,HIREDATE FROM EMP\n",
    "pd.DataFrame(result)"
   ]
  },
  {
   "cell_type": "code",
   "execution_count": null,
   "id": "17227e33-7b5e-46fb-881f-1b458fb74071",
   "metadata": {},
   "outputs": [],
   "source": []
  }
 ],
 "metadata": {
  "kernelspec": {
   "display_name": "Python 3 (ipykernel)",
   "language": "python",
   "name": "python3"
  },
  "language_info": {
   "codemirror_mode": {
    "name": "ipython",
    "version": 3
   },
   "file_extension": ".py",
   "mimetype": "text/x-python",
   "name": "python",
   "nbconvert_exporter": "python",
   "pygments_lexer": "ipython3",
   "version": "3.11.3"
  }
 },
 "nbformat": 4,
 "nbformat_minor": 5
}
